{
 "cells": [
  {
   "cell_type": "markdown",
   "metadata": {
    "toc": true
   },
   "source": [
    "<h1>Table of Contents<span class=\"tocSkip\"></span></h1>\n",
    "<div class=\"toc\"><ul class=\"toc-item\"><li><span><a href=\"#1-Business-Problem\" data-toc-modified-id=\"1-Business-Problem-1\">1 Business Problem</a></span><ul class=\"toc-item\"><li><span><a href=\"#1.1-Problem-Description\" data-toc-modified-id=\"1.1-Problem-Description-1.1\">1.1 Problem Description</a></span></li><li><span><a href=\"#1.2-Problem-Statement\" data-toc-modified-id=\"1.2-Problem-Statement-1.2\">1.2 Problem Statement</a></span></li><li><span><a href=\"#1.3-Sources\" data-toc-modified-id=\"1.3-Sources-1.3\">1.3 Sources</a></span></li><li><span><a href=\"#1.4-Real-world/Business-Objectives-and-constraints\" data-toc-modified-id=\"1.4-Real-world/Business-Objectives-and-constraints-1.4\">1.4 Real world/Business Objectives and constraints</a></span></li></ul></li><li><span><a href=\"#2-Machine-Learning-Problem\" data-toc-modified-id=\"2-Machine-Learning-Problem-2\">2 Machine Learning Problem</a></span><ul class=\"toc-item\"><li><span><a href=\"#2.1-Data\" data-toc-modified-id=\"2.1-Data-2.1\">2.1 Data</a></span><ul class=\"toc-item\"><li><span><a href=\"#2.1.1-Data-Overview\" data-toc-modified-id=\"2.1.1-Data-Overview-2.1.1\">2.1.1 Data Overview</a></span></li><li><span><a href=\"#2.1.2-Example-Data-point\" data-toc-modified-id=\"2.1.2-Example-Data-point-2.1.2\">2.1.2 Example Data point</a></span></li></ul></li><li><span><a href=\"#2.2-Mapping-the-real-world-problem-to-a-Machine-Learning-Problem\" data-toc-modified-id=\"2.2-Mapping-the-real-world-problem-to-a-Machine-Learning-Problem-2.2\">2.2 Mapping the real world problem to a Machine Learning Problem</a></span><ul class=\"toc-item\"><li><span><a href=\"#2.2.1-Type-of-Machine-Learning-Problem\" data-toc-modified-id=\"2.2.1-Type-of-Machine-Learning-Problem-2.2.1\">2.2.1 Type of Machine Learning Problem</a></span></li><li><span><a href=\"#2.2.2-Performance-metric\" data-toc-modified-id=\"2.2.2-Performance-metric-2.2.2\">2.2.2 Performance metric</a></span></li><li><span><a href=\"#2.2.3-Machine-Learning-Objective-and-Constraints\" data-toc-modified-id=\"2.2.3-Machine-Learning-Objective-and-Constraints-2.2.3\">2.2.3 Machine Learning Objective and Constraints</a></span></li></ul></li></ul></li><li><span><a href=\"#3-Exploratory-Data-Analysis\" data-toc-modified-id=\"3-Exploratory-Data-Analysis-3\">3 Exploratory Data Analysis</a></span><ul class=\"toc-item\"><li><span><a href=\"#3.1-Preprocessing\" data-toc-modified-id=\"3.1-Preprocessing-3.1\">3.1 Preprocessing</a></span><ul class=\"toc-item\"><li><span><a href=\"#3.1.1-Converting-/-Merging-whole-data-to-required-format:-u_i,-m_j,-r_ij\" data-toc-modified-id=\"3.1.1-Converting-/-Merging-whole-data-to-required-format:-u_i,-m_j,-r_ij-3.1.1\">3.1.1 Converting / Merging whole data to required format: u_i, m_j, r_ij</a></span></li><li><span><a href=\"#3.1.2-Checking-for-NaN-values\" data-toc-modified-id=\"3.1.2-Checking-for-NaN-values-3.1.2\">3.1.2 Checking for NaN values</a></span></li><li><span><a href=\"#3.1.3-Removing-Duplicates-\" data-toc-modified-id=\"3.1.3-Removing-Duplicates--3.1.3\">3.1.3 Removing Duplicates </a></span></li><li><span><a href=\"#3.1.4-Basic-Statistics-(#Ratings,-#Users,-and-#Movies)\" data-toc-modified-id=\"3.1.4-Basic-Statistics-(#Ratings,-#Users,-and-#Movies)-3.1.4\">3.1.4 Basic Statistics (#Ratings, #Users, and #Movies)</a></span></li></ul></li><li><span><a href=\"#3.2-Spliting-data-into-Train-and-Test(80:20)\" data-toc-modified-id=\"3.2-Spliting-data-into-Train-and-Test(80:20)-3.2\">3.2 Spliting data into Train and Test(80:20)</a></span><ul class=\"toc-item\"><li><span><a href=\"#3.2.1-Basic-Statistics-in-Train-data-(#Ratings,-#Users,-and-#Movies)\" data-toc-modified-id=\"3.2.1-Basic-Statistics-in-Train-data-(#Ratings,-#Users,-and-#Movies)-3.2.1\">3.2.1 Basic Statistics in Train data (#Ratings, #Users, and #Movies)</a></span></li><li><span><a href=\"#3.2.2-Basic-Statistics-in-Test-data-(#Ratings,-#Users,-and-#Movies)\" data-toc-modified-id=\"3.2.2-Basic-Statistics-in-Test-data-(#Ratings,-#Users,-and-#Movies)-3.2.2\">3.2.2 Basic Statistics in Test data (#Ratings, #Users, and #Movies)</a></span></li></ul></li><li><span><a href=\"#3.3-Exploratory-Data-Analysis-on-Train-data\" data-toc-modified-id=\"3.3-Exploratory-Data-Analysis-on-Train-data-3.3\">3.3 Exploratory Data Analysis on Train data</a></span><ul class=\"toc-item\"><li><span><a href=\"#3.3.1-Distribution-of-ratings\" data-toc-modified-id=\"3.3.1-Distribution-of-ratings-3.3.1\">3.3.1 Distribution of ratings</a></span></li><li><span><a href=\"#3.3.2-Number-of-Ratings-per-a-month\" data-toc-modified-id=\"3.3.2-Number-of-Ratings-per-a-month-3.3.2\">3.3.2 Number of Ratings per a month</a></span></li><li><span><a href=\"#3.3.3-Analysis-on-the-Ratings-given-by-user\" data-toc-modified-id=\"3.3.3-Analysis-on-the-Ratings-given-by-user-3.3.3\">3.3.3 Analysis on the Ratings given by user</a></span></li><li><span><a href=\"#-3.3.4-Analysis-of-ratings-of-a-movie-given-by-a-user-\" data-toc-modified-id=\"-3.3.4-Analysis-of-ratings-of-a-movie-given-by-a-user--3.3.4\"> 3.3.4 Analysis of ratings of a movie given by a user </a></span></li><li><span><a href=\"#-3.3.5-Number-of-ratings-on-each-day-of-the-week\" data-toc-modified-id=\"-3.3.5-Number-of-ratings-on-each-day-of-the-week-3.3.5\"> 3.3.5 Number of ratings on each day of the week</a></span></li><li><span><a href=\"#3.3.6-Creating-sparse-matrix-from-data-frame\" data-toc-modified-id=\"3.3.6-Creating-sparse-matrix-from-data-frame-3.3.6\">3.3.6 Creating sparse matrix from data frame</a></span><ul class=\"toc-item\"><li><span><a href=\"#3.3.6.1-Creating-sparse-matrix-from-train-data-frame\" data-toc-modified-id=\"3.3.6.1-Creating-sparse-matrix-from-train-data-frame-3.3.6.1\">3.3.6.1 Creating sparse matrix from train data frame</a></span></li><li><span><a href=\"#3.3.6.2-Creating-sparse-matrix-from-test-data-frame\" data-toc-modified-id=\"3.3.6.2-Creating-sparse-matrix-from-test-data-frame-3.3.6.2\">3.3.6.2 Creating sparse matrix from test data frame</a></span></li></ul></li><li><span><a href=\"#3.3.7-Finding-Global-average-of-all-movie-ratings,-Average-rating-per-user,-and-Average-rating-per-movie\" data-toc-modified-id=\"3.3.7-Finding-Global-average-of-all-movie-ratings,-Average-rating-per-user,-and-Average-rating-per-movie-3.3.7\">3.3.7 Finding Global average of all movie ratings, Average rating per user, and Average rating per movie</a></span><ul class=\"toc-item\"><li><span><a href=\"#3.3.7.1-finding-global-average-of-all-movie-ratings\" data-toc-modified-id=\"3.3.7.1-finding-global-average-of-all-movie-ratings-3.3.7.1\">3.3.7.1 finding global average of all movie ratings</a></span></li><li><span><a href=\"#3.3.7.2-finding-average-rating-per-user\" data-toc-modified-id=\"3.3.7.2-finding-average-rating-per-user-3.3.7.2\">3.3.7.2 finding average rating per user</a></span></li><li><span><a href=\"#3.3.7.3-finding-average-rating-per-movie\" data-toc-modified-id=\"3.3.7.3-finding-average-rating-per-movie-3.3.7.3\">3.3.7.3 finding average rating per movie</a></span></li><li><span><a href=\"#3.3.7.4-PDF's-&amp;-CDF's-of-Avg.Ratings-of-Users-&amp;-Movies-(In-Train-Data)\" data-toc-modified-id=\"3.3.7.4-PDF's-&amp;-CDF's-of-Avg.Ratings-of-Users-&amp;-Movies-(In-Train-Data)-3.3.7.4\">3.3.7.4 PDF's &amp; CDF's of Avg.Ratings of Users &amp; Movies (In Train Data)</a></span></li></ul></li><li><span><a href=\"#3.3.8-Cold-Start-problem\" data-toc-modified-id=\"3.3.8-Cold-Start-problem-3.3.8\">3.3.8 Cold Start problem</a></span><ul class=\"toc-item\"><li><span><a href=\"#3.3.8.1-Cold-Start-problem-with-Users\" data-toc-modified-id=\"3.3.8.1-Cold-Start-problem-with-Users-3.3.8.1\">3.3.8.1 Cold Start problem with Users</a></span></li><li><span><a href=\"#3.3.8.2-Cold-Start-problem-with-Movies\" data-toc-modified-id=\"3.3.8.2-Cold-Start-problem-with-Movies-3.3.8.2\">3.3.8.2 Cold Start problem with Movies</a></span></li></ul></li></ul></li><li><span><a href=\"#3.4-Computing-Similarity-matrices\" data-toc-modified-id=\"3.4-Computing-Similarity-matrices-3.4\">3.4 Computing Similarity matrices</a></span><ul class=\"toc-item\"><li><span><a href=\"#3.4.1-Computing-User-User-Similarity-matrix\" data-toc-modified-id=\"3.4.1-Computing-User-User-Similarity-matrix-3.4.1\">3.4.1 Computing User-User Similarity matrix</a></span></li><li><span><a href=\"#3.4.2-Computing-Movie-Movie-Similarity-matrix\" data-toc-modified-id=\"3.4.2-Computing-Movie-Movie-Similarity-matrix-3.4.2\">3.4.2 Computing Movie-Movie Similarity matrix</a></span></li><li><span><a href=\"#3.4.3-Finding-most-similar-movies-using-similarity-matrix\" data-toc-modified-id=\"3.4.3-Finding-most-similar-movies-using-similarity-matrix-3.4.3\">3.4.3 Finding most similar movies using similarity matrix</a></span></li></ul></li></ul></li></ul></div>"
   ]
  },
  {
   "cell_type": "markdown",
   "metadata": {
    "colab_type": "text",
    "id": "Z9wQ50gwKEd_"
   },
   "source": [
    "![Kernel & front-end diagram](Images/netflix-q.jpg)"
   ]
  },
  {
   "cell_type": "markdown",
   "metadata": {
    "colab_type": "text",
    "id": "Rb8jYhbS_Ov1"
   },
   "source": [
    "# 1 Business Problem "
   ]
  },
  {
   "cell_type": "markdown",
   "metadata": {
    "colab_type": "text",
    "id": "7dJBBDVK_Ov2"
   },
   "source": [
    "## 1.1 Problem Description\n"
   ]
  },
  {
   "cell_type": "markdown",
   "metadata": {
    "colab_type": "text",
    "id": "CutcJlFS_Ov3"
   },
   "source": [
    "<p>\n",
    "Netflix is all about connecting people to the movies they love. To help customers find those movies, they developed world-class movie recommendation system: CinematchSM. Its job is to predict whether someone will enjoy a movie based on how much they liked or disliked other movies. Netflix use those predictions to make personal movie recommendations based on each customer’s unique tastes. And while <b>Cinematch</b> is doing pretty well, it can always be made better.\n",
    "</p>\n",
    "<p>Now there are a lot of interesting alternative approaches to how Cinematch works that netflix haven’t tried. Some are described in the literature, some aren’t. We’re curious whether any of these can beat Cinematch by making better predictions. Because, frankly, if there is a much better approach it could make a big difference to our customers and our business.</p>\n",
    "<p> Credits: https://www.netflixprize.com/rules.html </p>"
   ]
  },
  {
   "cell_type": "markdown",
   "metadata": {
    "colab_type": "text",
    "id": "mYuQ2AWH_Ov3"
   },
   "source": [
    "## 1.2 Problem Statement "
   ]
  },
  {
   "cell_type": "markdown",
   "metadata": {
    "colab_type": "text",
    "id": "xpN5FwUq_Ov4"
   },
   "source": [
    "<p>\n",
    "Netflix provided a lot of anonymous rating data, and a prediction accuracy bar that is 10% better than what Cinematch can do on the same training data set. (Accuracy is a measurement of how closely predicted ratings of movies match subsequent actual ratings.) \n",
    "</p>"
   ]
  },
  {
   "cell_type": "markdown",
   "metadata": {
    "colab_type": "text",
    "id": "Nzm-5mI7_Ov5"
   },
   "source": [
    "## 1.3 Sources "
   ]
  },
  {
   "cell_type": "markdown",
   "metadata": {
    "colab_type": "text",
    "id": "QTDDS4oB_Ov5"
   },
   "source": [
    "<ul>\n",
    "<li> https://www.netflixprize.com/rules.html</li>\n",
    "<li> https://www.kaggle.com/netflix-inc/netflix-prize-data</li>\n",
    "<li> Netflix blog: https://medium.com/netflix-techblog/netflix-recommendations-beyond-the-5-stars-part-1-55838468f429 (very nice blog)</li>\n",
    "<li>surprise library: http://surpriselib.com/ (we use many models from this library)</li>\n",
    "<li>surprise library doc: http://surprise.readthedocs.io/en/stable/getting_started.html (we use many models from this library)</li>\n",
    "<li>installing surprise: https://github.com/NicolasHug/Surprise#installation </li>\n",
    "<li> Research paper: http://courses.ischool.berkeley.edu/i290-dm/s11/SECURE/a1-koren.pdf (most of our work was inspired by this paper)</li>\n",
    "<li> SVD Decomposition : https://www.youtube.com/watch?v=P5mlg91as1c </li>\n",
    "</ul>"
   ]
  },
  {
   "cell_type": "markdown",
   "metadata": {
    "colab_type": "text",
    "id": "aEsiJcKr_Ov9"
   },
   "source": [
    "## 1.4 Real world/Business Objectives and constraints  "
   ]
  },
  {
   "cell_type": "markdown",
   "metadata": {
    "colab_type": "text",
    "id": "XLfOWubG_Ov-"
   },
   "source": [
    "Objectives:\n",
    "1. Predict the rating that a user would give to a movie that he ahs not yet rated.\n",
    "2. Minimize the difference between predicted and actual rating (RMSE and MAPE)\n",
    "<br>\n",
    "\n",
    "Constraints:\n",
    "1. Some form of interpretability."
   ]
  },
  {
   "cell_type": "markdown",
   "metadata": {
    "colab_type": "text",
    "id": "uSwftyzw_Ov_"
   },
   "source": [
    "# 2 Machine Learning Problem "
   ]
  },
  {
   "cell_type": "markdown",
   "metadata": {
    "colab_type": "text",
    "id": "1gb-9Ep2_Ov_"
   },
   "source": [
    "## 2.1 Data "
   ]
  },
  {
   "cell_type": "markdown",
   "metadata": {
    "colab_type": "text",
    "id": "EovcHFmh_OwA"
   },
   "source": [
    "### 2.1.1 Data Overview "
   ]
  },
  {
   "cell_type": "markdown",
   "metadata": {
    "colab_type": "text",
    "id": "SuENwKX4_OwB"
   },
   "source": [
    "<p> Get the data from : https://www.kaggle.com/netflix-inc/netflix-prize-data/data </p>\n",
    "<p> Data files : \n",
    "<ul> \n",
    "<li> combined_data_1.txt </li>\n",
    "<li> combined_data_2.txt </li>\n",
    "<li> combined_data_3.txt </li>\n",
    "<li> combined_data_4.txt </li>\n",
    "<li> movie_titles.csv </li>\n",
    "</ul>\n",
    "<pre>  \n",
    "The first line of each file [combined_data_1.txt, combined_data_2.txt, combined_data_3.txt, combined_data_4.txt] contains the movie id followed by a colon. Each subsequent line in the file corresponds to a rating from a customer and its date in the following format:\n",
    "\n",
    "CustomerID,Rating,Date\n",
    "\n",
    "MovieIDs range from 1 to 17770 sequentially.\n",
    "CustomerIDs range from 1 to 2649429, with gaps. There are 480189 users.\n",
    "Ratings are on a five star (integral) scale from 1 to 5.\n",
    "Dates have the format YYYY-MM-DD.\n",
    "</pre>"
   ]
  },
  {
   "cell_type": "markdown",
   "metadata": {
    "colab_type": "text",
    "id": "CyyvzDsg_OwC"
   },
   "source": [
    "### 2.1.2 Example Data point "
   ]
  },
  {
   "cell_type": "markdown",
   "metadata": {
    "colab_type": "text",
    "id": "uC-vc9BZ_OwD"
   },
   "source": [
    "<pre>\n",
    "1:\n",
    "1488844,3,2005-09-06\n",
    "822109,5,2005-05-13\n",
    "885013,4,2005-10-19\n",
    "30878,4,2005-12-26\n",
    "823519,3,2004-05-03\n",
    "893988,3,2005-11-17\n",
    "124105,4,2004-08-05\n",
    "1248029,3,2004-04-22\n",
    "1842128,4,2004-05-09\n",
    "2238063,3,2005-05-11\n",
    "1503895,4,2005-05-19\n",
    "2207774,5,2005-06-06\n",
    "2590061,3,2004-08-12\n",
    "2442,3,2004-04-14\n",
    "543865,4,2004-05-28\n",
    "1209119,4,2004-03-23\n",
    "804919,4,2004-06-10\n",
    "1086807,3,2004-12-28\n",
    "1711859,4,2005-05-08\n",
    "372233,5,2005-11-23\n",
    "1080361,3,2005-03-28\n",
    "1245640,3,2005-12-19\n",
    "558634,4,2004-12-14\n",
    "2165002,4,2004-04-06\n",
    "1181550,3,2004-02-01\n",
    "1227322,4,2004-02-06\n",
    "427928,4,2004-02-26\n",
    "814701,5,2005-09-29\n",
    "808731,4,2005-10-31\n",
    "662870,5,2005-08-24\n",
    "337541,5,2005-03-23\n",
    "786312,3,2004-11-16\n",
    "1133214,4,2004-03-07\n",
    "1537427,4,2004-03-29\n",
    "1209954,5,2005-05-09\n",
    "2381599,3,2005-09-12\n",
    "525356,2,2004-07-11\n",
    "1910569,4,2004-04-12\n",
    "2263586,4,2004-08-20\n",
    "2421815,2,2004-02-26\n",
    "1009622,1,2005-01-19\n",
    "1481961,2,2005-05-24\n",
    "401047,4,2005-06-03\n",
    "2179073,3,2004-08-29\n",
    "1434636,3,2004-05-01\n",
    "93986,5,2005-10-06\n",
    "1308744,5,2005-10-29\n",
    "2647871,4,2005-12-30\n",
    "1905581,5,2005-08-16\n",
    "2508819,3,2004-05-18\n",
    "1578279,1,2005-05-19\n",
    "1159695,4,2005-02-15\n",
    "2588432,3,2005-03-31\n",
    "2423091,3,2005-09-12\n",
    "470232,4,2004-04-08\n",
    "2148699,2,2004-06-05\n",
    "1342007,3,2004-07-16\n",
    "466135,4,2004-07-13\n",
    "2472440,3,2005-08-13\n",
    "1283744,3,2004-04-17\n",
    "1927580,4,2004-11-08\n",
    "716874,5,2005-05-06\n",
    "4326,4,2005-10-29\n",
    "</pre>"
   ]
  },
  {
   "cell_type": "markdown",
   "metadata": {
    "colab_type": "text",
    "id": "Y261_XeA_OwD"
   },
   "source": [
    "## 2.2 Mapping the real world problem to a Machine Learning Problem "
   ]
  },
  {
   "cell_type": "markdown",
   "metadata": {
    "colab_type": "text",
    "id": "PDYc2JZq_OwE"
   },
   "source": [
    "### 2.2.1 Type of Machine Learning Problem "
   ]
  },
  {
   "cell_type": "markdown",
   "metadata": {
    "colab_type": "text",
    "id": "PRWrkkTP_OwF"
   },
   "source": [
    "<pre>\n",
    "For a given movie and user we need to predict the rating would be given by him/her to the movie. \n",
    "The given problem is a Recommendation problem \n",
    "It can also seen as a Regression problem \n",
    "</pre>"
   ]
  },
  {
   "cell_type": "markdown",
   "metadata": {
    "colab_type": "text",
    "id": "j8Nhuc4e_OwG"
   },
   "source": [
    "### 2.2.2 Performance metric "
   ]
  },
  {
   "cell_type": "markdown",
   "metadata": {
    "colab_type": "text",
    "id": "y6q8LrNz_OwG"
   },
   "source": [
    "<ul>\n",
    "<li> Mean Absolute Percentage Error: https://en.wikipedia.org/wiki/Mean_absolute_percentage_error </li>\n",
    "<li> Root Mean Square Error: https://en.wikipedia.org/wiki/Root-mean-square_deviation </li>\n",
    "</ul>\n"
   ]
  },
  {
   "cell_type": "markdown",
   "metadata": {
    "colab_type": "text",
    "id": "HUy9lSjj_OwH"
   },
   "source": [
    "### 2.2.3 Machine Learning Objective and Constraints "
   ]
  },
  {
   "cell_type": "markdown",
   "metadata": {
    "colab_type": "text",
    "id": "njuWlCkA_OwI"
   },
   "source": [
    "1. Minimize RMSE.\n",
    "2. Try to provide some interpretability."
   ]
  },
  {
   "cell_type": "code",
   "execution_count": 0,
   "metadata": {
    "colab": {
     "autoexec": {
      "startup": false,
      "wait_interval": 0
     }
    },
    "colab_type": "code",
    "id": "wQzqiWDv_OwK"
   },
   "outputs": [],
   "source": [
    "# this is just to know how much time will it take to run this entire ipython notebook \n",
    "from IPython.display import Image\n",
    "from datetime import datetime\n",
    "globalstart = datetime.now()\n",
    "import pandas as pd\n",
    "import numpy as np\n",
    "import matplotlib.pyplot as plt\n",
    "#plt.rcParams.update({'figure.max_open_warning': 0})\n",
    "\n",
    "#import matplotlib\n",
    "#matplotlib.use('nbagg')\n",
    "import seaborn as sns\n",
    "sns.set_style('whitegrid')\n",
    "import os\n",
    "from scipy import sparse\n",
    "from scipy.sparse import csr_matrix\n",
    "\n",
    "from sklearn.decomposition import TruncatedSVD\n",
    "from sklearn.metrics.pairwise import cosine_similarity\n",
    "import random\n",
    "from sklearn.metrics.pairwise import cosine_similarity\n",
    "\n"
   ]
  },
  {
   "cell_type": "markdown",
   "metadata": {
    "colab_type": "text",
    "id": "OOjruzLn_OwS"
   },
   "source": [
    "# 3 Exploratory Data Analysis "
   ]
  },
  {
   "cell_type": "markdown",
   "metadata": {
    "colab_type": "text",
    "id": "yxDt8fE-_OwT"
   },
   "source": [
    "## 3.1 Preprocessing"
   ]
  },
  {
   "cell_type": "markdown",
   "metadata": {
    "colab_type": "text",
    "id": "gnOX8RSX_OwU"
   },
   "source": [
    "### 3.1.1 Converting / Merging whole data to required format: u_i, m_j, r_ij"
   ]
  },
  {
   "cell_type": "code",
   "execution_count": 3,
   "metadata": {
    "colab": {
     "autoexec": {
      "startup": false,
      "wait_interval": 0
     },
     "base_uri": "https://localhost:8080/",
     "height": 36
    },
    "colab_type": "code",
    "executionInfo": {
     "elapsed": 4080,
     "status": "ok",
     "timestamp": 1532019210465,
     "user": {
      "displayName": "vishnu gopireddy",
      "photoUrl": "https://lh3.googleusercontent.com/a/default-user=s128",
      "userId": "103025835711196897778"
     },
     "user_tz": -330
    },
    "id": "9B_Af9Fi_OwV",
    "outputId": "5c511c48-1e55-4d70-9b05-77292052b705"
   },
   "outputs": [
    {
     "name": "stdout",
     "output_type": "stream",
     "text": [
      "Time taken : 0:00:03.055305\n"
     ]
    }
   ],
   "source": [
    "start = datetime.now()\n",
    "if not os.path.isfile('drive/ai/data_folder/data.csv'):\n",
    "    # Create a file 'data.csv' before reading it\n",
    "    # Read all the files in netflix and store them in one big file('data.csv')\n",
    "    # We re reading from each of the four files and appendig each rating to a global file 'train.csv'\n",
    "    data = open('drive/ai/data_folder/data.csv', mode='w')\n",
    "    \n",
    "    row = list()\n",
    "    files=['drive/ai/data_folder/combined_data_2.txt','drive/ai/data_folder/combined_data_2.txt', \n",
    "           'drive/ai/data_folder/combined_data_3.txt', 'drive/ai/data_folder/combined_data_4.txt']\n",
    "    for file in files:\n",
    "        print(\"Reading ratings from {}...\".format(file))\n",
    "        with open(file) as f:\n",
    "            for line in f: \n",
    "                del row[:] # you don't have to do this.\n",
    "                line = line.strip()\n",
    "                if line.endswith(':'):\n",
    "                    # All below are ratings for this movie, until another movie appears.\n",
    "                    movie_id = line.replace(':', '')\n",
    "                else:\n",
    "                    row = [x for x in line.split(',')]\n",
    "                    row.insert(0, movie_id)\n",
    "                    data.write(','.join(row))\n",
    "                    data.write('\\n')\n",
    "        print(\"Done.\\n\")\n",
    "    data.close()\n",
    "print('Time taken :', datetime.now() - start)"
   ]
  },
  {
   "cell_type": "code",
   "execution_count": 4,
   "metadata": {
    "colab": {
     "autoexec": {
      "startup": false,
      "wait_interval": 0
     },
     "base_uri": "https://localhost:8080/",
     "height": 111
    },
    "colab_type": "code",
    "executionInfo": {
     "elapsed": 164513,
     "status": "ok",
     "timestamp": 1532019375093,
     "user": {
      "displayName": "vishnu gopireddy",
      "photoUrl": "https://lh3.googleusercontent.com/a/default-user=s128",
      "userId": "103025835711196897778"
     },
     "user_tz": -330
    },
    "id": "tRgdAWjy_Owe",
    "outputId": "f4352db1-2896-4f5c-f295-0b95eb3da378"
   },
   "outputs": [
    {
     "name": "stdout",
     "output_type": "stream",
     "text": [
      "creating the dataframe from data.csv file..\n",
      "Done.\n",
      "\n",
      "Sorting the dataframe by date..\n",
      "Done..\n"
     ]
    }
   ],
   "source": [
    "print(\"creating the dataframe from data.csv file..\")\n",
    "df = pd.read_csv('drive/ai/data_folder/data.csv', sep=',', \n",
    "                       names=['movie', 'user','rating','date'])\n",
    "df.date = pd.to_datetime(df.date)\n",
    "print('Done.\\n')\n",
    "\n",
    "# we are arranging the ratings according to time.\n",
    "print('Sorting the dataframe by date..')\n",
    "df.sort_values(by='date', inplace=True)\n",
    "print('Done..')"
   ]
  },
  {
   "cell_type": "code",
   "execution_count": 13,
   "metadata": {
    "colab": {
     "autoexec": {
      "startup": false,
      "wait_interval": 0
     },
     "base_uri": "https://localhost:8080/",
     "height": 206
    },
    "colab_type": "code",
    "executionInfo": {
     "elapsed": 1274,
     "status": "ok",
     "timestamp": 1532018124810,
     "user": {
      "displayName": "vishnu gopireddy",
      "photoUrl": "https://lh3.googleusercontent.com/a/default-user=s128",
      "userId": "103025835711196897778"
     },
     "user_tz": -330
    },
    "id": "rPyoudJG_Owi",
    "outputId": "6fc7cce2-e4e8-4a78-bd24-f4caf2c230fa"
   },
   "outputs": [
    {
     "data": {
      "text/html": [
       "<div>\n",
       "<style scoped>\n",
       "    .dataframe tbody tr th:only-of-type {\n",
       "        vertical-align: middle;\n",
       "    }\n",
       "\n",
       "    .dataframe tbody tr th {\n",
       "        vertical-align: top;\n",
       "    }\n",
       "\n",
       "    .dataframe thead th {\n",
       "        text-align: right;\n",
       "    }\n",
       "</style>\n",
       "<table border=\"1\" class=\"dataframe\">\n",
       "  <thead>\n",
       "    <tr style=\"text-align: right;\">\n",
       "      <th></th>\n",
       "      <th>movie</th>\n",
       "      <th>user</th>\n",
       "      <th>rating</th>\n",
       "      <th>date</th>\n",
       "    </tr>\n",
       "  </thead>\n",
       "  <tbody>\n",
       "    <tr>\n",
       "      <th>56431994</th>\n",
       "      <td>10341</td>\n",
       "      <td>510180</td>\n",
       "      <td>4</td>\n",
       "      <td>1999-11-11</td>\n",
       "    </tr>\n",
       "    <tr>\n",
       "      <th>9056171</th>\n",
       "      <td>1798</td>\n",
       "      <td>510180</td>\n",
       "      <td>5</td>\n",
       "      <td>1999-11-11</td>\n",
       "    </tr>\n",
       "    <tr>\n",
       "      <th>58698779</th>\n",
       "      <td>10774</td>\n",
       "      <td>510180</td>\n",
       "      <td>3</td>\n",
       "      <td>1999-11-11</td>\n",
       "    </tr>\n",
       "    <tr>\n",
       "      <th>48101611</th>\n",
       "      <td>8651</td>\n",
       "      <td>510180</td>\n",
       "      <td>2</td>\n",
       "      <td>1999-11-11</td>\n",
       "    </tr>\n",
       "    <tr>\n",
       "      <th>81893208</th>\n",
       "      <td>14660</td>\n",
       "      <td>510180</td>\n",
       "      <td>2</td>\n",
       "      <td>1999-11-11</td>\n",
       "    </tr>\n",
       "  </tbody>\n",
       "</table>\n",
       "</div>"
      ],
      "text/plain": [
       "          movie    user  rating       date\n",
       "56431994  10341  510180       4 1999-11-11\n",
       "9056171    1798  510180       5 1999-11-11\n",
       "58698779  10774  510180       3 1999-11-11\n",
       "48101611   8651  510180       2 1999-11-11\n",
       "81893208  14660  510180       2 1999-11-11"
      ]
     },
     "execution_count": 13,
     "metadata": {
      "tags": []
     },
     "output_type": "execute_result"
    }
   ],
   "source": [
    "df.head()"
   ]
  },
  {
   "cell_type": "code",
   "execution_count": 15,
   "metadata": {
    "colab": {
     "autoexec": {
      "startup": false,
      "wait_interval": 0
     },
     "base_uri": "https://localhost:8080/",
     "height": 170
    },
    "colab_type": "code",
    "executionInfo": {
     "elapsed": 25911,
     "status": "ok",
     "timestamp": 1531998116490,
     "user": {
      "displayName": "Vishnu vardhan",
      "photoUrl": "//lh3.googleusercontent.com/-aWCh36gokTE/AAAAAAAAAAI/AAAAAAAAEho/sz27AYB6wCw/s50-c-k-no/photo.jpg",
      "userId": "115344496305613697268"
     },
     "user_tz": -330
    },
    "id": "0OfFA9BI_Owm",
    "outputId": "cec30c0e-53ba-49c3-af78-5c355f4cdb59"
   },
   "outputs": [
    {
     "data": {
      "text/plain": [
       "count    1.004805e+08\n",
       "mean     3.604290e+00\n",
       "std      1.085219e+00\n",
       "min      1.000000e+00\n",
       "25%      3.000000e+00\n",
       "50%      4.000000e+00\n",
       "75%      4.000000e+00\n",
       "max      5.000000e+00\n",
       "Name: rating, dtype: float64"
      ]
     },
     "execution_count": 15,
     "metadata": {
      "tags": []
     },
     "output_type": "execute_result"
    }
   ],
   "source": [
    "df.describe()['rating']"
   ]
  },
  {
   "cell_type": "markdown",
   "metadata": {
    "colab_type": "text",
    "id": "tvghB1HO_Owp"
   },
   "source": [
    "### 3.1.2 Checking for NaN values "
   ]
  },
  {
   "cell_type": "code",
   "execution_count": 16,
   "metadata": {
    "colab": {
     "autoexec": {
      "startup": false,
      "wait_interval": 0
     },
     "base_uri": "https://localhost:8080/",
     "height": 34
    },
    "colab_type": "code",
    "executionInfo": {
     "elapsed": 8455,
     "status": "ok",
     "timestamp": 1531998216577,
     "user": {
      "displayName": "Vishnu vardhan",
      "photoUrl": "//lh3.googleusercontent.com/-aWCh36gokTE/AAAAAAAAAAI/AAAAAAAAEho/sz27AYB6wCw/s50-c-k-no/photo.jpg",
      "userId": "115344496305613697268"
     },
     "user_tz": -330
    },
    "id": "ySwWCin8_Owq",
    "outputId": "e6d72d80-1c04-4ea7-a207-d3e721a84da9"
   },
   "outputs": [
    {
     "name": "stdout",
     "output_type": "stream",
     "text": [
      "No of Nan values in our dataframe :  0\n"
     ]
    }
   ],
   "source": [
    "# just to make sure that all Nan containing rows are deleted..\n",
    "print(\"No of Nan values in our dataframe : \", sum(df.isnull().any()))"
   ]
  },
  {
   "cell_type": "markdown",
   "metadata": {
    "colab_type": "text",
    "id": "I2ummmPr_Oww"
   },
   "source": [
    "<h3>3.1.3 Removing Duplicates </h3>"
   ]
  },
  {
   "cell_type": "code",
   "execution_count": 17,
   "metadata": {
    "colab": {
     "autoexec": {
      "startup": false,
      "wait_interval": 0
     },
     "base_uri": "https://localhost:8080/",
     "height": 34
    },
    "colab_type": "code",
    "executionInfo": {
     "elapsed": 32066,
     "status": "ok",
     "timestamp": 1531998248757,
     "user": {
      "displayName": "Vishnu vardhan",
      "photoUrl": "//lh3.googleusercontent.com/-aWCh36gokTE/AAAAAAAAAAI/AAAAAAAAEho/sz27AYB6wCw/s50-c-k-no/photo.jpg",
      "userId": "115344496305613697268"
     },
     "user_tz": -330
    },
    "id": "GnMz1mwz_Owx",
    "outputId": "afc295ab-e356-4d84-a9aa-eb4eaf2b74d0"
   },
   "outputs": [
    {
     "name": "stdout",
     "output_type": "stream",
     "text": [
      "There are 0 duplicate rating entries in the data..\n"
     ]
    }
   ],
   "source": [
    "dup_bool = df.duplicated(['movie','user','rating'])\n",
    "dups = sum(dup_bool) # by considering all columns..( including timestamp)\n",
    "print(\"There are {} duplicate rating entries in the data..\".format(dups))"
   ]
  },
  {
   "cell_type": "markdown",
   "metadata": {
    "colab_type": "text",
    "id": "dzEKzAxO_Ow3"
   },
   "source": [
    "### 3.1.4 Basic Statistics (#Ratings, #Users, and #Movies)"
   ]
  },
  {
   "cell_type": "code",
   "execution_count": 18,
   "metadata": {
    "colab": {
     "autoexec": {
      "startup": false,
      "wait_interval": 0
     },
     "base_uri": "https://localhost:8080/",
     "height": 119
    },
    "colab_type": "code",
    "executionInfo": {
     "elapsed": 15078,
     "status": "ok",
     "timestamp": 1531998263880,
     "user": {
      "displayName": "Vishnu vardhan",
      "photoUrl": "//lh3.googleusercontent.com/-aWCh36gokTE/AAAAAAAAAAI/AAAAAAAAEho/sz27AYB6wCw/s50-c-k-no/photo.jpg",
      "userId": "115344496305613697268"
     },
     "user_tz": -330
    },
    "id": "p5CdeJDU_Ow4",
    "outputId": "b9ecf355-9863-4cf5-88e6-eb78e60ef28b"
   },
   "outputs": [
    {
     "name": "stdout",
     "output_type": "stream",
     "text": [
      "Total data \n",
      "--------------------------------------------------\n",
      "\n",
      "Total no of ratings : 100480507\n",
      "Total No of Users   : 480189\n",
      "Total No of movies  : 17770\n"
     ]
    }
   ],
   "source": [
    "print(\"Total data \")\n",
    "print(\"-\"*50)\n",
    "print(\"\\nTotal no of ratings :\",df.shape[0])\n",
    "print(\"Total No of Users   :\", len(np.unique(df.user)))\n",
    "print(\"Total No of movies  :\", len(np.unique(df.movie)))"
   ]
  },
  {
   "cell_type": "markdown",
   "metadata": {
    "colab_type": "text",
    "id": "hJOq3VRk_OxC"
   },
   "source": [
    "## 3.2 Spliting data into Train and Test(80:20) "
   ]
  },
  {
   "cell_type": "code",
   "execution_count": 0,
   "metadata": {
    "colab": {
     "autoexec": {
      "startup": false,
      "wait_interval": 0
     }
    },
    "colab_type": "code",
    "id": "CcyyQadQ_OxD"
   },
   "outputs": [],
   "source": [
    "if not os.path.isfile('drive/ai/data_folder/train.csv'):\n",
    "    # create the dataframe and store it in the disk for offline purposes..\n",
    "    df.iloc[:int(df.shape[0]*0.80)].to_csv(\"train.csv\", index=False)\n",
    "\n",
    "if not os.path.isfile('drive/ai/data_folder/test.csv'):\n",
    "    # create the dataframe and store it in the disk for offline purposes..\n",
    "    df.iloc[int(df.shape[0]*0.80):].to_csv(\"drive/ai/data_folder/test.csv\", index=False)\n",
    "\n",
    "train_df = pd.read_csv(\"drive/ai/data_folder/train.csv\", parse_dates=['date'])\n",
    "test_df = pd.read_csv(\"drive/ai/data_folder/test.csv\")"
   ]
  },
  {
   "cell_type": "markdown",
   "metadata": {
    "colab_type": "text",
    "id": "kjIVG_E2_OxG"
   },
   "source": [
    "### 3.2.1 Basic Statistics in Train data (#Ratings, #Users, and #Movies)"
   ]
  },
  {
   "cell_type": "code",
   "execution_count": 8,
   "metadata": {
    "colab": {
     "autoexec": {
      "startup": false,
      "wait_interval": 0
     },
     "base_uri": "https://localhost:8080/",
     "height": 130
    },
    "colab_type": "code",
    "executionInfo": {
     "elapsed": 13615,
     "status": "ok",
     "timestamp": 1532016933854,
     "user": {
      "displayName": "vishnu gopireddy",
      "photoUrl": "https://lh3.googleusercontent.com/a/default-user=s128",
      "userId": "103025835711196897778"
     },
     "user_tz": -330
    },
    "id": "PXhZ0M8i_OxH",
    "outputId": "f02d0bd7-05e0-4060-929c-7fd0d4e9e854"
   },
   "outputs": [
    {
     "name": "stdout",
     "output_type": "stream",
     "text": [
      "Training data \n",
      "--------------------------------------------------\n",
      "\n",
      "Total no of ratings : 80384405\n",
      "Total No of Users   : 405041\n",
      "Total No of movies  : 17424\n"
     ]
    }
   ],
   "source": [
    "# movies = train_df.movie.value_counts()\n",
    "# users = train_df.user.value_counts()\n",
    "print(\"Training data \")\n",
    "print(\"-\"*50)\n",
    "print(\"\\nTotal no of ratings :\",train_df.shape[0])\n",
    "print(\"Total No of Users   :\", len(np.unique(train_df.user)))\n",
    "print(\"Total No of movies  :\", len(np.unique(train_df.movie)))"
   ]
  },
  {
   "cell_type": "markdown",
   "metadata": {
    "colab_type": "text",
    "id": "y4Tee2mJ_OxK"
   },
   "source": [
    "### 3.2.2 Basic Statistics in Test data (#Ratings, #Users, and #Movies)"
   ]
  },
  {
   "cell_type": "code",
   "execution_count": 21,
   "metadata": {
    "colab": {
     "autoexec": {
      "startup": false,
      "wait_interval": 0
     },
     "base_uri": "https://localhost:8080/",
     "height": 119
    },
    "colab_type": "code",
    "executionInfo": {
     "elapsed": 4007,
     "status": "ok",
     "timestamp": 1531998446440,
     "user": {
      "displayName": "Vishnu vardhan",
      "photoUrl": "//lh3.googleusercontent.com/-aWCh36gokTE/AAAAAAAAAAI/AAAAAAAAEho/sz27AYB6wCw/s50-c-k-no/photo.jpg",
      "userId": "115344496305613697268"
     },
     "user_tz": -330
    },
    "id": "IklqN6k4_OxK",
    "outputId": "d04e949a-c286-414d-c21b-164c8c7b0029"
   },
   "outputs": [
    {
     "name": "stdout",
     "output_type": "stream",
     "text": [
      "Test data \n",
      "--------------------------------------------------\n",
      "\n",
      "Total no of ratings : 20096102\n",
      "Total No of Users   : 349312\n",
      "Total No of movies  : 17757\n"
     ]
    }
   ],
   "source": [
    "print(\"Test data \")\n",
    "print(\"-\"*50)\n",
    "print(\"\\nTotal no of ratings :\",test_df.shape[0])\n",
    "print(\"Total No of Users   :\", len(np.unique(test_df.user)))\n",
    "print(\"Total No of movies  :\", len(np.unique(test_df.movie)))"
   ]
  },
  {
   "cell_type": "markdown",
   "metadata": {
    "colab_type": "text",
    "id": "HBWtx7ZW_OxN"
   },
   "source": [
    "## 3.3 Exploratory Data Analysis on Train data "
   ]
  },
  {
   "cell_type": "code",
   "execution_count": 0,
   "metadata": {
    "colab": {
     "autoexec": {
      "startup": false,
      "wait_interval": 0
     }
    },
    "colab_type": "code",
    "id": "ZcFQJv7H_OxP"
   },
   "outputs": [],
   "source": [
    "# method to make y-axis more readable\n",
    "def human(num, units = 'M'):\n",
    "    units = units.lower()\n",
    "    num = float(num)\n",
    "    if units == 'k':\n",
    "        return str(num/10**3) + \" K\"\n",
    "    elif units == 'm':\n",
    "        return str(num/10**6) + \" M\"\n",
    "    elif units == 'b':\n",
    "        return str(num/10**9) +  \" B\""
   ]
  },
  {
   "cell_type": "markdown",
   "metadata": {
    "colab_type": "text",
    "id": "Dj7d1LuZ_OxT"
   },
   "source": [
    "### 3.3.1 Distribution of ratings "
   ]
  },
  {
   "cell_type": "code",
   "execution_count": 10,
   "metadata": {
    "colab": {
     "autoexec": {
      "startup": false,
      "wait_interval": 0
     },
     "base_uri": "https://localhost:8080/",
     "height": 436
    },
    "colab_type": "code",
    "executionInfo": {
     "elapsed": 27373,
     "status": "ok",
     "timestamp": 1532017007246,
     "user": {
      "displayName": "vishnu gopireddy",
      "photoUrl": "https://lh3.googleusercontent.com/a/default-user=s128",
      "userId": "103025835711196897778"
     },
     "user_tz": -330
    },
    "id": "cDlEjXNB_OxT",
    "outputId": "ab808fe3-c1ef-4e62-a2cc-32cb4673ffdb"
   },
   "outputs": [
    {
     "name": "stderr",
     "output_type": "stream",
     "text": [
      "/usr/local/lib/python3.6/dist-packages/seaborn/categorical.py:1428: FutureWarning: remove_na is deprecated and is a private function. Do not use.\n",
      "  stat_data = remove_na(group_data)\n"
     ]
    },
    {
     "data": {
      "image/png": "[encoded data removed]",
      "text/plain": [
       "<matplotlib.figure.Figure at 0x7f2f46a36c18>"
      ]
     },
     "metadata": {
      "tags": []
     },
     "output_type": "display_data"
    }
   ],
   "source": [
    "fig, ax = plt.subplots()\n",
    "plt.title('Distribution of ratings over Training dataset', fontsize=15)\n",
    "sns.countplot(train_df.rating)\n",
    "ax.set_yticklabels([human(item, 'M') for item in ax.get_yticks()])\n",
    "ax.set_ylabel('No. of Ratings(Millions)')\n",
    "\n",
    "plt.show()"
   ]
  },
  {
   "cell_type": "code",
   "execution_count": 14,
   "metadata": {
    "colab": {
     "autoexec": {
      "startup": false,
      "wait_interval": 0
     },
     "base_uri": "https://localhost:8080/",
     "height": 206
    },
    "colab_type": "code",
    "executionInfo": {
     "elapsed": 6593,
     "status": "ok",
     "timestamp": 1532017175217,
     "user": {
      "displayName": "vishnu gopireddy",
      "photoUrl": "https://lh3.googleusercontent.com/a/default-user=s128",
      "userId": "103025835711196897778"
     },
     "user_tz": -330
    },
    "id": "h4Y6bh0B_OxW",
    "outputId": "1c40c1a3-47e2-490f-c792-a339d52542f8"
   },
   "outputs": [
    {
     "data": {
      "text/html": [
       "<div>\n",
       "<style scoped>\n",
       "    .dataframe tbody tr th:only-of-type {\n",
       "        vertical-align: middle;\n",
       "    }\n",
       "\n",
       "    .dataframe tbody tr th {\n",
       "        vertical-align: top;\n",
       "    }\n",
       "\n",
       "    .dataframe thead th {\n",
       "        text-align: right;\n",
       "    }\n",
       "</style>\n",
       "<table border=\"1\" class=\"dataframe\">\n",
       "  <thead>\n",
       "    <tr style=\"text-align: right;\">\n",
       "      <th></th>\n",
       "      <th>movie</th>\n",
       "      <th>user</th>\n",
       "      <th>rating</th>\n",
       "      <th>date</th>\n",
       "      <th>day_of_week</th>\n",
       "    </tr>\n",
       "  </thead>\n",
       "  <tbody>\n",
       "    <tr>\n",
       "      <th>80384400</th>\n",
       "      <td>12074</td>\n",
       "      <td>2033618</td>\n",
       "      <td>4</td>\n",
       "      <td>2005-08-08</td>\n",
       "      <td>Monday</td>\n",
       "    </tr>\n",
       "    <tr>\n",
       "      <th>80384401</th>\n",
       "      <td>862</td>\n",
       "      <td>1797061</td>\n",
       "      <td>3</td>\n",
       "      <td>2005-08-08</td>\n",
       "      <td>Monday</td>\n",
       "    </tr>\n",
       "    <tr>\n",
       "      <th>80384402</th>\n",
       "      <td>10986</td>\n",
       "      <td>1498715</td>\n",
       "      <td>5</td>\n",
       "      <td>2005-08-08</td>\n",
       "      <td>Monday</td>\n",
       "    </tr>\n",
       "    <tr>\n",
       "      <th>80384403</th>\n",
       "      <td>14861</td>\n",
       "      <td>500016</td>\n",
       "      <td>4</td>\n",
       "      <td>2005-08-08</td>\n",
       "      <td>Monday</td>\n",
       "    </tr>\n",
       "    <tr>\n",
       "      <th>80384404</th>\n",
       "      <td>5926</td>\n",
       "      <td>1044015</td>\n",
       "      <td>5</td>\n",
       "      <td>2005-08-08</td>\n",
       "      <td>Monday</td>\n",
       "    </tr>\n",
       "  </tbody>\n",
       "</table>\n",
       "</div>"
      ],
      "text/plain": [
       "          movie     user  rating       date day_of_week\n",
       "80384400  12074  2033618       4 2005-08-08      Monday\n",
       "80384401    862  1797061       3 2005-08-08      Monday\n",
       "80384402  10986  1498715       5 2005-08-08      Monday\n",
       "80384403  14861   500016       4 2005-08-08      Monday\n",
       "80384404   5926  1044015       5 2005-08-08      Monday"
      ]
     },
     "execution_count": 14,
     "metadata": {
      "tags": []
     },
     "output_type": "execute_result"
    }
   ],
   "source": [
    "# It is used to skip the warning ''SettingWithCopyWarning''.. \n",
    "pd.options.mode.chained_assignment = None  # default='warn'\n",
    "\n",
    "train_df['day_of_week'] = train_df.date.dt.weekday_name\n",
    "\n",
    "train_df.tail()"
   ]
  },
  {
   "cell_type": "markdown",
   "metadata": {
    "colab_type": "text",
    "id": "dnp9w93X_Oxa"
   },
   "source": [
    "### 3.3.2 Number of Ratings per a month "
   ]
  },
  {
   "cell_type": "code",
   "execution_count": 25,
   "metadata": {
    "colab": {
     "autoexec": {
      "startup": false,
      "wait_interval": 0
     },
     "base_uri": "https://localhost:8080/",
     "height": 376
    },
    "colab_type": "code",
    "executionInfo": {
     "elapsed": 4731,
     "status": "ok",
     "timestamp": 1531998540762,
     "user": {
      "displayName": "Vishnu vardhan",
      "photoUrl": "//lh3.googleusercontent.com/-aWCh36gokTE/AAAAAAAAAAI/AAAAAAAAEho/sz27AYB6wCw/s50-c-k-no/photo.jpg",
      "userId": "115344496305613697268"
     },
     "user_tz": -330
    },
    "id": "azRPAvQf_Oxb",
    "outputId": "5a27eeed-8074-417b-edba-b2a60f39fe8a"
   },
   "outputs": [
    {
     "data": {
      "image/png": "[encoded data removed]",
      "text/plain": [
       "<matplotlib.figure.Figure at 0x7f0362427d30>"
      ]
     },
     "metadata": {
      "tags": []
     },
     "output_type": "display_data"
    }
   ],
   "source": [
    "ax = train_df.resample('m', on='date')['rating'].count().plot()\n",
    "ax.set_title('No of ratings per month (Training data)')\n",
    "plt.xlabel('Month')\n",
    "plt.ylabel('No of ratings(per month)')\n",
    "ax.set_yticklabels([human(item, 'M') for item in ax.get_yticks()])\n",
    "plt.show()"
   ]
  },
  {
   "cell_type": "markdown",
   "metadata": {
    "colab_type": "text",
    "id": "_sYBf1LM_Oxg"
   },
   "source": [
    "### 3.3.3 Analysis on the Ratings given by user "
   ]
  },
  {
   "cell_type": "code",
   "execution_count": 0,
   "metadata": {
    "colab": {
     "autoexec": {
      "startup": false,
      "wait_interval": 0
     }
    },
    "colab_type": "code",
    "id": "NdXhqw0u_Oxh"
   },
   "outputs": [],
   "source": [
    "no_of_rated_movies_per_user = train_df.groupby(by='user')['rating'].count().sort_values(ascending=False)\n",
    "\n",
    "no_of_rated_movies_per_user.head()"
   ]
  },
  {
   "cell_type": "code",
   "execution_count": 0,
   "metadata": {
    "colab": {
     "autoexec": {
      "startup": false,
      "wait_interval": 0
     }
    },
    "colab_type": "code",
    "id": "V5DWwicU_Oxm",
    "outputId": "b8c75abf-742a-4bf7-c819-873653f36a6c"
   },
   "outputs": [
    {
     "data": {
      "application/javascript": [
       "/* Put everything inside the global mpl namespace */\n",
       "window.mpl = {};\n",
       "\n",
       "\n",
       "mpl.get_websocket_type = function() {\n",
       "    if (typeof(WebSocket) !== 'undefined') {\n",
       "        return WebSocket;\n",
       "    } else if (typeof(MozWebSocket) !== 'undefined') {\n",
       "        return MozWebSocket;\n",
       "    } else {\n",
       "        alert('Your browser does not have WebSocket support.' +\n",
       "              'Please try Chrome, Safari or Firefox ≥ 6. ' +\n",
       "              'Firefox 4 and 5 are also supported but you ' +\n",
       "              'have to enable WebSockets in about:config.');\n",
       "    };\n",
       "}\n",
       "\n",
       "mpl.figure = function(figure_id, websocket, ondownload, parent_element) {\n",
       "    this.id = figure_id;\n",
       "\n",
       "    this.ws = websocket;\n",
       "\n",
       "    this.supports_binary = (this.ws.binaryType != undefined);\n",
       "\n",
       "    if (!this.supports_binary) {\n",
       "        var warnings = document.getElementById(\"mpl-warnings\");\n",
       "        if (warnings) {\n",
       "            warnings.style.display = 'block';\n",
       "            warnings.textContent = (\n",
       "                \"This browser does not support binary websocket messages. \" +\n",
       "                    \"Performance may be slow.\");\n",
       "        }\n",
       "    }\n",
       "\n",
       "    this.imageObj = new Image();\n",
       "\n",
       "    this.context = undefined;\n",
       "    this.message = undefined;\n",
       "    this.canvas = undefined;\n",
       "    this.rubberband_canvas = undefined;\n",
       "    this.rubberband_context = undefined;\n",
       "    this.format_dropdown = undefined;\n",
       "\n",
       "    this.image_mode = 'full';\n",
       "\n",
       "    this.root = $('<div/>');\n",
       "    this._root_extra_style(this.root)\n",
       "    this.root.attr('style', 'display: inline-block');\n",
       "\n",
       "    $(parent_element).append(this.root);\n",
       "\n",
       "    this._init_header(this);\n",
       "    this._init_canvas(this);\n",
       "    this._init_toolbar(this);\n",
       "\n",
       "    var fig = this;\n",
       "\n",
       "    this.waiting = false;\n",
       "\n",
       "    this.ws.onopen =  function () {\n",
       "            fig.send_message(\"supports_binary\", {value: fig.supports_binary});\n",
       "            fig.send_message(\"send_image_mode\", {});\n",
       "            if (mpl.ratio != 1) {\n",
       "                fig.send_message(\"set_dpi_ratio\", {'dpi_ratio': mpl.ratio});\n",
       "            }\n",
       "            fig.send_message(\"refresh\", {});\n",
       "        }\n",
       "\n",
       "    this.imageObj.onload = function() {\n",
       "            if (fig.image_mode == 'full') {\n",
       "                // Full images could contain transparency (where diff images\n",
       "                // almost always do), so we need to clear the canvas so that\n",
       "                // there is no ghosting.\n",
       "                fig.context.clearRect(0, 0, fig.canvas.width, fig.canvas.height);\n",
       "            }\n",
       "            fig.context.drawImage(fig.imageObj, 0, 0);\n",
       "        };\n",
       "\n",
       "    this.imageObj.onunload = function() {\n",
       "        fig.ws.close();\n",
       "    }\n",
       "\n",
       "    this.ws.onmessage = this._make_on_message_function(this);\n",
       "\n",
       "    this.ondownload = ondownload;\n",
       "}\n",
       "\n",
       "mpl.figure.prototype._init_header = function() {\n",
       "    var titlebar = $(\n",
       "        '<div class=\"ui-dialog-titlebar ui-widget-header ui-corner-all ' +\n",
       "        'ui-helper-clearfix\"/>');\n",
       "    var titletext = $(\n",
       "        '<div class=\"ui-dialog-title\" style=\"width: 100%; ' +\n",
       "        'text-align: center; padding: 3px;\"/>');\n",
       "    titlebar.append(titletext)\n",
       "    this.root.append(titlebar);\n",
       "    this.header = titletext[0];\n",
       "}\n",
       "\n",
       "\n",
       "\n",
       "mpl.figure.prototype._canvas_extra_style = function(canvas_div) {\n",
       "\n",
       "}\n",
       "\n",
       "\n",
       "mpl.figure.prototype._root_extra_style = function(canvas_div) {\n",
       "\n",
       "}\n",
       "\n",
       "mpl.figure.prototype._init_canvas = function() {\n",
       "    var fig = this;\n",
       "\n",
       "    var canvas_div = $('<div/>');\n",
       "\n",
       "    canvas_div.attr('style', 'position: relative; clear: both; outline: 0');\n",
       "\n",
       "    function canvas_keyboard_event(event) {\n",
       "        return fig.key_event(event, event['data']);\n",
       "    }\n",
       "\n",
       "    canvas_div.keydown('key_press', canvas_keyboard_event);\n",
       "    canvas_div.keyup('key_release', canvas_keyboard_event);\n",
       "    this.canvas_div = canvas_div\n",
       "    this._canvas_extra_style(canvas_div)\n",
       "    this.root.append(canvas_div);\n",
       "\n",
       "    var canvas = $('<canvas/>');\n",
       "    canvas.addClass('mpl-canvas');\n",
       "    canvas.attr('style', \"left: 0; top: 0; z-index: 0; outline: 0\")\n",
       "\n",
       "    this.canvas = canvas[0];\n",
       "    this.context = canvas[0].getContext(\"2d\");\n",
       "\n",
       "    var backingStore = this.context.backingStorePixelRatio ||\n",
       "\tthis.context.webkitBackingStorePixelRatio ||\n",
       "\tthis.context.mozBackingStorePixelRatio ||\n",
       "\tthis.context.msBackingStorePixelRatio ||\n",
       "\tthis.context.oBackingStorePixelRatio ||\n",
       "\tthis.context.backingStorePixelRatio || 1;\n",
       "\n",
       "    mpl.ratio = (window.devicePixelRatio || 1) / backingStore;\n",
       "\n",
       "    var rubberband = $('<canvas/>');\n",
       "    rubberband.attr('style', \"position: absolute; left: 0; top: 0; z-index: 1;\")\n",
       "\n",
       "    var pass_mouse_events = true;\n",
       "\n",
       "    canvas_div.resizable({\n",
       "        start: function(event, ui) {\n",
       "            pass_mouse_events = false;\n",
       "        },\n",
       "        resize: function(event, ui) {\n",
       "            fig.request_resize(ui.size.width, ui.size.height);\n",
       "        },\n",
       "        stop: function(event, ui) {\n",
       "            pass_mouse_events = true;\n",
       "            fig.request_resize(ui.size.width, ui.size.height);\n",
       "        },\n",
       "    });\n",
       "\n",
       "    function mouse_event_fn(event) {\n",
       "        if (pass_mouse_events)\n",
       "            return fig.mouse_event(event, event['data']);\n",
       "    }\n",
       "\n",
       "    rubberband.mousedown('button_press', mouse_event_fn);\n",
       "    rubberband.mouseup('button_release', mouse_event_fn);\n",
       "    // Throttle sequential mouse events to 1 every 20ms.\n",
       "    rubberband.mousemove('motion_notify', mouse_event_fn);\n",
       "\n",
       "    rubberband.mouseenter('figure_enter', mouse_event_fn);\n",
       "    rubberband.mouseleave('figure_leave', mouse_event_fn);\n",
       "\n",
       "    canvas_div.on(\"wheel\", function (event) {\n",
       "        event = event.originalEvent;\n",
       "        event['data'] = 'scroll'\n",
       "        if (event.deltaY < 0) {\n",
       "            event.step = 1;\n",
       "        } else {\n",
       "            event.step = -1;\n",
       "        }\n",
       "        mouse_event_fn(event);\n",
       "    });\n",
       "\n",
       "    canvas_div.append(canvas);\n",
       "    canvas_div.append(rubberband);\n",
       "\n",
       "    this.rubberband = rubberband;\n",
       "    this.rubberband_canvas = rubberband[0];\n",
       "    this.rubberband_context = rubberband[0].getContext(\"2d\");\n",
       "    this.rubberband_context.strokeStyle = \"#000000\";\n",
       "\n",
       "    this._resize_canvas = function(width, height) {\n",
       "        // Keep the size of the canvas, canvas container, and rubber band\n",
       "        // canvas in synch.\n",
       "        canvas_div.css('width', width)\n",
       "        canvas_div.css('height', height)\n",
       "\n",
       "        canvas.attr('width', width * mpl.ratio);\n",
       "        canvas.attr('height', height * mpl.ratio);\n",
       "        canvas.attr('style', 'width: ' + width + 'px; height: ' + height + 'px;');\n",
       "\n",
       "        rubberband.attr('width', width);\n",
       "        rubberband.attr('height', height);\n",
       "    }\n",
       "\n",
       "    // Set the figure to an initial 600x600px, this will subsequently be updated\n",
       "    // upon first draw.\n",
       "    this._resize_canvas(600, 600);\n",
       "\n",
       "    // Disable right mouse context menu.\n",
       "    $(this.rubberband_canvas).bind(\"contextmenu\",function(e){\n",
       "        return false;\n",
       "    });\n",
       "\n",
       "    function set_focus () {\n",
       "        canvas.focus();\n",
       "        canvas_div.focus();\n",
       "    }\n",
       "\n",
       "    window.setTimeout(set_focus, 100);\n",
       "}\n",
       "\n",
       "mpl.figure.prototype._init_toolbar = function() {\n",
       "    var fig = this;\n",
       "\n",
       "    var nav_element = $('<div/>')\n",
       "    nav_element.attr('style', 'width: 100%');\n",
       "    this.root.append(nav_element);\n",
       "\n",
       "    // Define a callback function for later on.\n",
       "    function toolbar_event(event) {\n",
       "        return fig.toolbar_button_onclick(event['data']);\n",
       "    }\n",
       "    function toolbar_mouse_event(event) {\n",
       "        return fig.toolbar_button_onmouseover(event['data']);\n",
       "    }\n",
       "\n",
       "    for(var toolbar_ind in mpl.toolbar_items) {\n",
       "        var name = mpl.toolbar_items[toolbar_ind][0];\n",
       "        var tooltip = mpl.toolbar_items[toolbar_ind][1];\n",
       "        var image = mpl.toolbar_items[toolbar_ind][2];\n",
       "        var method_name = mpl.toolbar_items[toolbar_ind][3];\n",
       "\n",
       "        if (!name) {\n",
       "            // put a spacer in here.\n",
       "            continue;\n",
       "        }\n",
       "        var button = $('<button/>');\n",
       "        button.addClass('ui-button ui-widget ui-state-default ui-corner-all ' +\n",
       "                        'ui-button-icon-only');\n",
       "        button.attr('role', 'button');\n",
       "        button.attr('aria-disabled', 'false');\n",
       "        button.click(method_name, toolbar_event);\n",
       "        button.mouseover(tooltip, toolbar_mouse_event);\n",
       "\n",
       "        var icon_img = $('<span/>');\n",
       "        icon_img.addClass('ui-button-icon-primary ui-icon');\n",
       "        icon_img.addClass(image);\n",
       "        icon_img.addClass('ui-corner-all');\n",
       "\n",
       "        var tooltip_span = $('<span/>');\n",
       "        tooltip_span.addClass('ui-button-text');\n",
       "        tooltip_span.html(tooltip);\n",
       "\n",
       "        button.append(icon_img);\n",
       "        button.append(tooltip_span);\n",
       "\n",
       "        nav_element.append(button);\n",
       "    }\n",
       "\n",
       "    var fmt_picker_span = $('<span/>');\n",
       "\n",
       "    var fmt_picker = $('<select/>');\n",
       "    fmt_picker.addClass('mpl-toolbar-option ui-widget ui-widget-content');\n",
       "    fmt_picker_span.append(fmt_picker);\n",
       "    nav_element.append(fmt_picker_span);\n",
       "    this.format_dropdown = fmt_picker[0];\n",
       "\n",
       "    for (var ind in mpl.extensions) {\n",
       "        var fmt = mpl.extensions[ind];\n",
       "        var option = $(\n",
       "            '<option/>', {selected: fmt === mpl.default_extension}).html(fmt);\n",
       "        fmt_picker.append(option)\n",
       "    }\n",
       "\n",
       "    // Add hover states to the ui-buttons\n",
       "    $( \".ui-button\" ).hover(\n",
       "        function() { $(this).addClass(\"ui-state-hover\");},\n",
       "        function() { $(this).removeClass(\"ui-state-hover\");}\n",
       "    );\n",
       "\n",
       "    var status_bar = $('<span class=\"mpl-message\"/>');\n",
       "    nav_element.append(status_bar);\n",
       "    this.message = status_bar[0];\n",
       "}\n",
       "\n",
       "mpl.figure.prototype.request_resize = function(x_pixels, y_pixels) {\n",
       "    // Request matplotlib to resize the figure. Matplotlib will then trigger a resize in the client,\n",
       "    // which will in turn request a refresh of the image.\n",
       "    this.send_message('resize', {'width': x_pixels, 'height': y_pixels});\n",
       "}\n",
       "\n",
       "mpl.figure.prototype.send_message = function(type, properties) {\n",
       "    properties['type'] = type;\n",
       "    properties['figure_id'] = this.id;\n",
       "    this.ws.send(JSON.stringify(properties));\n",
       "}\n",
       "\n",
       "mpl.figure.prototype.send_draw_message = function() {\n",
       "    if (!this.waiting) {\n",
       "        this.waiting = true;\n",
       "        this.ws.send(JSON.stringify({type: \"draw\", figure_id: this.id}));\n",
       "    }\n",
       "}\n",
       "\n",
       "\n",
       "mpl.figure.prototype.handle_save = function(fig, msg) {\n",
       "    var format_dropdown = fig.format_dropdown;\n",
       "    var format = format_dropdown.options[format_dropdown.selectedIndex].value;\n",
       "    fig.ondownload(fig, format);\n",
       "}\n",
       "\n",
       "\n",
       "mpl.figure.prototype.handle_resize = function(fig, msg) {\n",
       "    var size = msg['size'];\n",
       "    if (size[0] != fig.canvas.width || size[1] != fig.canvas.height) {\n",
       "        fig._resize_canvas(size[0], size[1]);\n",
       "        fig.send_message(\"refresh\", {});\n",
       "    };\n",
       "}\n",
       "\n",
       "mpl.figure.prototype.handle_rubberband = function(fig, msg) {\n",
       "    var x0 = msg['x0'] / mpl.ratio;\n",
       "    var y0 = (fig.canvas.height - msg['y0']) / mpl.ratio;\n",
       "    var x1 = msg['x1'] / mpl.ratio;\n",
       "    var y1 = (fig.canvas.height - msg['y1']) / mpl.ratio;\n",
       "    x0 = Math.floor(x0) + 0.5;\n",
       "    y0 = Math.floor(y0) + 0.5;\n",
       "    x1 = Math.floor(x1) + 0.5;\n",
       "    y1 = Math.floor(y1) + 0.5;\n",
       "    var min_x = Math.min(x0, x1);\n",
       "    var min_y = Math.min(y0, y1);\n",
       "    var width = Math.abs(x1 - x0);\n",
       "    var height = Math.abs(y1 - y0);\n",
       "\n",
       "    fig.rubberband_context.clearRect(\n",
       "        0, 0, fig.canvas.width, fig.canvas.height);\n",
       "\n",
       "    fig.rubberband_context.strokeRect(min_x, min_y, width, height);\n",
       "}\n",
       "\n",
       "mpl.figure.prototype.handle_figure_label = function(fig, msg) {\n",
       "    // Updates the figure title.\n",
       "    fig.header.textContent = msg['label'];\n",
       "}\n",
       "\n",
       "mpl.figure.prototype.handle_cursor = function(fig, msg) {\n",
       "    var cursor = msg['cursor'];\n",
       "    switch(cursor)\n",
       "    {\n",
       "    case 0:\n",
       "        cursor = 'pointer';\n",
       "        break;\n",
       "    case 1:\n",
       "        cursor = 'default';\n",
       "        break;\n",
       "    case 2:\n",
       "        cursor = 'crosshair';\n",
       "        break;\n",
       "    case 3:\n",
       "        cursor = 'move';\n",
       "        break;\n",
       "    }\n",
       "    fig.rubberband_canvas.style.cursor = cursor;\n",
       "}\n",
       "\n",
       "mpl.figure.prototype.handle_message = function(fig, msg) {\n",
       "    fig.message.textContent = msg['message'];\n",
       "}\n",
       "\n",
       "mpl.figure.prototype.handle_draw = function(fig, msg) {\n",
       "    // Request the server to send over a new figure.\n",
       "    fig.send_draw_message();\n",
       "}\n",
       "\n",
       "mpl.figure.prototype.handle_image_mode = function(fig, msg) {\n",
       "    fig.image_mode = msg['mode'];\n",
       "}\n",
       "\n",
       "mpl.figure.prototype.updated_canvas_event = function() {\n",
       "    // Called whenever the canvas gets updated.\n",
       "    this.send_message(\"ack\", {});\n",
       "}\n",
       "\n",
       "// A function to construct a web socket function for onmessage handling.\n",
       "// Called in the figure constructor.\n",
       "mpl.figure.prototype._make_on_message_function = function(fig) {\n",
       "    return function socket_on_message(evt) {\n",
       "        if (evt.data instanceof Blob) {\n",
       "            /* FIXME: We get \"Resource interpreted as Image but\n",
       "             * transferred with MIME type text/plain:\" errors on\n",
       "             * Chrome.  But how to set the MIME type?  It doesn't seem\n",
       "             * to be part of the websocket stream */\n",
       "            evt.data.type = \"image/png\";\n",
       "\n",
       "            /* Free the memory for the previous frames */\n",
       "            if (fig.imageObj.src) {\n",
       "                (window.URL || window.webkitURL).revokeObjectURL(\n",
       "                    fig.imageObj.src);\n",
       "            }\n",
       "\n",
       "            fig.imageObj.src = (window.URL || window.webkitURL).createObjectURL(\n",
       "                evt.data);\n",
       "            fig.updated_canvas_event();\n",
       "            fig.waiting = false;\n",
       "            return;\n",
       "        }\n",
       "        else if (typeof evt.data === 'string' && evt.data.slice(0, 21) == \"data:image/png;base64\") {\n",
       "            fig.imageObj.src = evt.data;\n",
       "            fig.updated_canvas_event();\n",
       "            fig.waiting = false;\n",
       "            return;\n",
       "        }\n",
       "\n",
       "        var msg = JSON.parse(evt.data);\n",
       "        var msg_type = msg['type'];\n",
       "\n",
       "        // Call the  \"handle_{type}\" callback, which takes\n",
       "        // the figure and JSON message as its only arguments.\n",
       "        try {\n",
       "            var callback = fig[\"handle_\" + msg_type];\n",
       "        } catch (e) {\n",
       "            console.log(\"No handler for the '\" + msg_type + \"' message type: \", msg);\n",
       "            return;\n",
       "        }\n",
       "\n",
       "        if (callback) {\n",
       "            try {\n",
       "                // console.log(\"Handling '\" + msg_type + \"' message: \", msg);\n",
       "                callback(fig, msg);\n",
       "            } catch (e) {\n",
       "                console.log(\"Exception inside the 'handler_\" + msg_type + \"' callback:\", e, e.stack, msg);\n",
       "            }\n",
       "        }\n",
       "    };\n",
       "}\n",
       "\n",
       "// from http://stackoverflow.com/questions/1114465/getting-mouse-location-in-canvas\n",
       "mpl.findpos = function(e) {\n",
       "    //this section is from http://www.quirksmode.org/js/events_properties.html\n",
       "    var targ;\n",
       "    if (!e)\n",
       "        e = window.event;\n",
       "    if (e.target)\n",
       "        targ = e.target;\n",
       "    else if (e.srcElement)\n",
       "        targ = e.srcElement;\n",
       "    if (targ.nodeType == 3) // defeat Safari bug\n",
       "        targ = targ.parentNode;\n",
       "\n",
       "    // jQuery normalizes the pageX and pageY\n",
       "    // pageX,Y are the mouse positions relative to the document\n",
       "    // offset() returns the position of the element relative to the document\n",
       "    var x = e.pageX - $(targ).offset().left;\n",
       "    var y = e.pageY - $(targ).offset().top;\n",
       "\n",
       "    return {\"x\": x, \"y\": y};\n",
       "};\n",
       "\n",
       "/*\n",
       " * return a copy of an object with only non-object keys\n",
       " * we need this to avoid circular references\n",
       " * http://stackoverflow.com/a/24161582/3208463\n",
       " */\n",
       "function simpleKeys (original) {\n",
       "  return Object.keys(original).reduce(function (obj, key) {\n",
       "    if (typeof original[key] !== 'object')\n",
       "        obj[key] = original[key]\n",
       "    return obj;\n",
       "  }, {});\n",
       "}\n",
       "\n",
       "mpl.figure.prototype.mouse_event = function(event, name) {\n",
       "    var canvas_pos = mpl.findpos(event)\n",
       "\n",
       "    if (name === 'button_press')\n",
       "    {\n",
       "        this.canvas.focus();\n",
       "        this.canvas_div.focus();\n",
       "    }\n",
       "\n",
       "    var x = canvas_pos.x * mpl.ratio;\n",
       "    var y = canvas_pos.y * mpl.ratio;\n",
       "\n",
       "    this.send_message(name, {x: x, y: y, button: event.button,\n",
       "                             step: event.step,\n",
       "                             guiEvent: simpleKeys(event)});\n",
       "\n",
       "    /* This prevents the web browser from automatically changing to\n",
       "     * the text insertion cursor when the button is pressed.  We want\n",
       "     * to control all of the cursor setting manually through the\n",
       "     * 'cursor' event from matplotlib */\n",
       "    event.preventDefault();\n",
       "    return false;\n",
       "}\n",
       "\n",
       "mpl.figure.prototype._key_event_extra = function(event, name) {\n",
       "    // Handle any extra behaviour associated with a key event\n",
       "}\n",
       "\n",
       "mpl.figure.prototype.key_event = function(event, name) {\n",
       "\n",
       "    // Prevent repeat events\n",
       "    if (name == 'key_press')\n",
       "    {\n",
       "        if (event.which === this._key)\n",
       "            return;\n",
       "        else\n",
       "            this._key = event.which;\n",
       "    }\n",
       "    if (name == 'key_release')\n",
       "        this._key = null;\n",
       "\n",
       "    var value = '';\n",
       "    if (event.ctrlKey && event.which != 17)\n",
       "        value += \"ctrl+\";\n",
       "    if (event.altKey && event.which != 18)\n",
       "        value += \"alt+\";\n",
       "    if (event.shiftKey && event.which != 16)\n",
       "        value += \"shift+\";\n",
       "\n",
       "    value += 'k';\n",
       "    value += event.which.toString();\n",
       "\n",
       "    this._key_event_extra(event, name);\n",
       "\n",
       "    this.send_message(name, {key: value,\n",
       "                             guiEvent: simpleKeys(event)});\n",
       "    return false;\n",
       "}\n",
       "\n",
       "mpl.figure.prototype.toolbar_button_onclick = function(name) {\n",
       "    if (name == 'download') {\n",
       "        this.handle_save(this, null);\n",
       "    } else {\n",
       "        this.send_message(\"toolbar_button\", {name: name});\n",
       "    }\n",
       "};\n",
       "\n",
       "mpl.figure.prototype.toolbar_button_onmouseover = function(tooltip) {\n",
       "    this.message.textContent = tooltip;\n",
       "};\n",
       "mpl.toolbar_items = [[\"Home\", \"Reset original view\", \"fa fa-home icon-home\", \"home\"], [\"Back\", \"Back to  previous view\", \"fa fa-arrow-left icon-arrow-left\", \"back\"], [\"Forward\", \"Forward to next view\", \"fa fa-arrow-right icon-arrow-right\", \"forward\"], [\"\", \"\", \"\", \"\"], [\"Pan\", \"Pan axes with left mouse, zoom with right\", \"fa fa-arrows icon-move\", \"pan\"], [\"Zoom\", \"Zoom to rectangle\", \"fa fa-square-o icon-check-empty\", \"zoom\"], [\"\", \"\", \"\", \"\"], [\"Download\", \"Download plot\", \"fa fa-floppy-o icon-save\", \"download\"]];\n",
       "\n",
       "mpl.extensions = [\"eps\", \"jpeg\", \"pdf\", \"png\", \"ps\", \"raw\", \"svg\", \"tif\"];\n",
       "\n",
       "mpl.default_extension = \"png\";var comm_websocket_adapter = function(comm) {\n",
       "    // Create a \"websocket\"-like object which calls the given IPython comm\n",
       "    // object with the appropriate methods. Currently this is a non binary\n",
       "    // socket, so there is still some room for performance tuning.\n",
       "    var ws = {};\n",
       "\n",
       "    ws.close = function() {\n",
       "        comm.close()\n",
       "    };\n",
       "    ws.send = function(m) {\n",
       "        //console.log('sending', m);\n",
       "        comm.send(m);\n",
       "    };\n",
       "    // Register the callback with on_msg.\n",
       "    comm.on_msg(function(msg) {\n",
       "        //console.log('receiving', msg['content']['data'], msg);\n",
       "        // Pass the mpl event to the overriden (by mpl) onmessage function.\n",
       "        ws.onmessage(msg['content']['data'])\n",
       "    });\n",
       "    return ws;\n",
       "}\n",
       "\n",
       "mpl.mpl_figure_comm = function(comm, msg) {\n",
       "    // This is the function which gets called when the mpl process\n",
       "    // starts-up an IPython Comm through the \"matplotlib\" channel.\n",
       "\n",
       "    var id = msg.content.data.id;\n",
       "    // Get hold of the div created by the display call when the Comm\n",
       "    // socket was opened in Python.\n",
       "    var element = $(\"#\" + id);\n",
       "    var ws_proxy = comm_websocket_adapter(comm)\n",
       "\n",
       "    function ondownload(figure, format) {\n",
       "        window.open(figure.imageObj.src);\n",
       "    }\n",
       "\n",
       "    var fig = new mpl.figure(id, ws_proxy,\n",
       "                           ondownload,\n",
       "                           element.get(0));\n",
       "\n",
       "    // Call onopen now - mpl needs it, as it is assuming we've passed it a real\n",
       "    // web socket which is closed, not our websocket->open comm proxy.\n",
       "    ws_proxy.onopen();\n",
       "\n",
       "    fig.parent_element = element.get(0);\n",
       "    fig.cell_info = mpl.find_output_cell(\"<div id='\" + id + \"'></div>\");\n",
       "    if (!fig.cell_info) {\n",
       "        console.error(\"Failed to find cell for figure\", id, fig);\n",
       "        return;\n",
       "    }\n",
       "\n",
       "    var output_index = fig.cell_info[2]\n",
       "    var cell = fig.cell_info[0];\n",
       "\n",
       "};\n",
       "\n",
       "mpl.figure.prototype.handle_close = function(fig, msg) {\n",
       "    var width = fig.canvas.width/mpl.ratio\n",
       "    fig.root.unbind('remove')\n",
       "\n",
       "    // Update the output cell to use the data from the current canvas.\n",
       "    fig.push_to_output();\n",
       "    var dataURL = fig.canvas.toDataURL();\n",
       "    // Re-enable the keyboard manager in IPython - without this line, in FF,\n",
       "    // the notebook keyboard shortcuts fail.\n",
       "    IPython.keyboard_manager.enable()\n",
       "    $(fig.parent_element).html('<img src=\"' + dataURL + '\" width=\"' + width + '\">');\n",
       "    fig.close_ws(fig, msg);\n",
       "}\n",
       "\n",
       "mpl.figure.prototype.close_ws = function(fig, msg){\n",
       "    fig.send_message('closing', msg);\n",
       "    // fig.ws.close()\n",
       "}\n",
       "\n",
       "mpl.figure.prototype.push_to_output = function(remove_interactive) {\n",
       "    // Turn the data on the canvas into data in the output cell.\n",
       "    var width = this.canvas.width/mpl.ratio\n",
       "    var dataURL = this.canvas.toDataURL();\n",
       "    this.cell_info[1]['text/html'] = '<img src=\"' + dataURL + '\" width=\"' + width + '\">';\n",
       "}\n",
       "\n",
       "mpl.figure.prototype.updated_canvas_event = function() {\n",
       "    // Tell IPython that the notebook contents must change.\n",
       "    IPython.notebook.set_dirty(true);\n",
       "    this.send_message(\"ack\", {});\n",
       "    var fig = this;\n",
       "    // Wait a second, then push the new image to the DOM so\n",
       "    // that it is saved nicely (might be nice to debounce this).\n",
       "    setTimeout(function () { fig.push_to_output() }, 1000);\n",
       "}\n",
       "\n",
       "mpl.figure.prototype._init_toolbar = function() {\n",
       "    var fig = this;\n",
       "\n",
       "    var nav_element = $('<div/>')\n",
       "    nav_element.attr('style', 'width: 100%');\n",
       "    this.root.append(nav_element);\n",
       "\n",
       "    // Define a callback function for later on.\n",
       "    function toolbar_event(event) {\n",
       "        return fig.toolbar_button_onclick(event['data']);\n",
       "    }\n",
       "    function toolbar_mouse_event(event) {\n",
       "        return fig.toolbar_button_onmouseover(event['data']);\n",
       "    }\n",
       "\n",
       "    for(var toolbar_ind in mpl.toolbar_items){\n",
       "        var name = mpl.toolbar_items[toolbar_ind][0];\n",
       "        var tooltip = mpl.toolbar_items[toolbar_ind][1];\n",
       "        var image = mpl.toolbar_items[toolbar_ind][2];\n",
       "        var method_name = mpl.toolbar_items[toolbar_ind][3];\n",
       "\n",
       "        if (!name) { continue; };\n",
       "\n",
       "        var button = $('<button class=\"btn btn-default\" href=\"#\" title=\"' + name + '\"><i class=\"fa ' + image + ' fa-lg\"></i></button>');\n",
       "        button.click(method_name, toolbar_event);\n",
       "        button.mouseover(tooltip, toolbar_mouse_event);\n",
       "        nav_element.append(button);\n",
       "    }\n",
       "\n",
       "    // Add the status bar.\n",
       "    var status_bar = $('<span class=\"mpl-message\" style=\"text-align:right; float: right;\"/>');\n",
       "    nav_element.append(status_bar);\n",
       "    this.message = status_bar[0];\n",
       "\n",
       "    // Add the close button to the window.\n",
       "    var buttongrp = $('<div class=\"btn-group inline pull-right\"></div>');\n",
       "    var button = $('<button class=\"btn btn-mini btn-primary\" href=\"#\" title=\"Stop Interaction\"><i class=\"fa fa-power-off icon-remove icon-large\"></i></button>');\n",
       "    button.click(function (evt) { fig.handle_close(fig, {}); } );\n",
       "    button.mouseover('Stop Interaction', toolbar_mouse_event);\n",
       "    buttongrp.append(button);\n",
       "    var titlebar = this.root.find($('.ui-dialog-titlebar'));\n",
       "    titlebar.prepend(buttongrp);\n",
       "}\n",
       "\n",
       "mpl.figure.prototype._root_extra_style = function(el){\n",
       "    var fig = this\n",
       "    el.on(\"remove\", function(){\n",
       "\tfig.close_ws(fig, {});\n",
       "    });\n",
       "}\n",
       "\n",
       "mpl.figure.prototype._canvas_extra_style = function(el){\n",
       "    // this is important to make the div 'focusable\n",
       "    el.attr('tabindex', 0)\n",
       "    // reach out to IPython and tell the keyboard manager to turn it's self\n",
       "    // off when our div gets focus\n",
       "\n",
       "    // location in version 3\n",
       "    if (IPython.notebook.keyboard_manager) {\n",
       "        IPython.notebook.keyboard_manager.register_events(el);\n",
       "    }\n",
       "    else {\n",
       "        // location in version 2\n",
       "        IPython.keyboard_manager.register_events(el);\n",
       "    }\n",
       "\n",
       "}\n",
       "\n",
       "mpl.figure.prototype._key_event_extra = function(event, name) {\n",
       "    var manager = IPython.notebook.keyboard_manager;\n",
       "    if (!manager)\n",
       "        manager = IPython.keyboard_manager;\n",
       "\n",
       "    // Check for shift+enter\n",
       "    if (event.shiftKey && event.which == 13) {\n",
       "        this.canvas_div.blur();\n",
       "        event.shiftKey = false;\n",
       "        // Send a \"J\" for go to next cell\n",
       "        event.which = 74;\n",
       "        event.keyCode = 74;\n",
       "        manager.command_mode();\n",
       "        manager.handle_keydown(event);\n",
       "    }\n",
       "}\n",
       "\n",
       "mpl.figure.prototype.handle_save = function(fig, msg) {\n",
       "    fig.ondownload(fig, null);\n",
       "}\n",
       "\n",
       "\n",
       "mpl.find_output_cell = function(html_output) {\n",
       "    // Return the cell and output element which can be found *uniquely* in the notebook.\n",
       "    // Note - this is a bit hacky, but it is done because the \"notebook_saving.Notebook\"\n",
       "    // IPython event is triggered only after the cells have been serialised, which for\n",
       "    // our purposes (turning an active figure into a static one), is too late.\n",
       "    var cells = IPython.notebook.get_cells();\n",
       "    var ncells = cells.length;\n",
       "    for (var i=0; i<ncells; i++) {\n",
       "        var cell = cells[i];\n",
       "        if (cell.cell_type === 'code'){\n",
       "            for (var j=0; j<cell.output_area.outputs.length; j++) {\n",
       "                var data = cell.output_area.outputs[j];\n",
       "                if (data.data) {\n",
       "                    // IPython >= 3 moved mimebundle to data attribute of output\n",
       "                    data = data.data;\n",
       "                }\n",
       "                if (data['text/html'] == html_output) {\n",
       "                    return [cell, data, j];\n",
       "                }\n",
       "            }\n",
       "        }\n",
       "    }\n",
       "}\n",
       "\n",
       "// Register the function which deals with the matplotlib target/channel.\n",
       "// The kernel may be null if the page has been refreshed.\n",
       "if (IPython.notebook.kernel != null) {\n",
       "    IPython.notebook.kernel.comm_manager.register_target('matplotlib', mpl.mpl_figure_comm);\n",
       "}\n"
      ],
      "text/plain": [
       "<IPython.core.display.Javascript object>"
      ]
     },
     "metadata": {
      "tags": []
     },
     "output_type": "display_data"
    },
    {
     "data": {
      "text/html": [
       "<img src=\"data:image/png;base64,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\" width=\"960\">"
      ],
      "text/plain": [
       "<IPython.core.display.HTML object>"
      ]
     },
     "metadata": {
      "tags": []
     },
     "output_type": "display_data"
    }
   ],
   "source": [
    "fig = plt.figure(figsize=plt.figaspect(.5))\n",
    "\n",
    "ax1 = plt.subplot(121)\n",
    "sns.kdeplot(no_of_rated_movies_per_user, shade=True, ax=ax1)\n",
    "plt.xlabel('No of ratings by user')\n",
    "plt.title(\"PDF\")\n",
    "\n",
    "ax2 = plt.subplot(122)\n",
    "sns.kdeplot(no_of_rated_movies_per_user, shade=True, cumulative=True,ax=ax2)\n",
    "plt.xlabel('No of ratings by user')\n",
    "plt.title('CDF')\n",
    "\n",
    "plt.show()"
   ]
  },
  {
   "cell_type": "code",
   "execution_count": 0,
   "metadata": {
    "colab": {
     "autoexec": {
      "startup": false,
      "wait_interval": 0
     }
    },
    "colab_type": "code",
    "id": "4PtwXrBP_Oxt",
    "outputId": "90db5c01-7633-48d0-d012-6f422a01d352"
   },
   "outputs": [
    {
     "data": {
      "text/plain": [
       "count    405041.000000\n",
       "mean        198.459921\n",
       "std         290.793238\n",
       "min           1.000000\n",
       "25%          34.000000\n",
       "50%          89.000000\n",
       "75%         245.000000\n",
       "max       17112.000000\n",
       "Name: rating, dtype: float64"
      ]
     },
     "execution_count": 22,
     "metadata": {
      "tags": []
     },
     "output_type": "execute_result"
    }
   ],
   "source": [
    "no_of_rated_movies_per_user.describe()"
   ]
  },
  {
   "cell_type": "markdown",
   "metadata": {
    "colab_type": "text",
    "id": "PjthQ1es_Oxy"
   },
   "source": [
    "> _There,  is something interesting going on with the quantiles.._"
   ]
  },
  {
   "cell_type": "code",
   "execution_count": 0,
   "metadata": {
    "colab": {
     "autoexec": {
      "startup": false,
      "wait_interval": 0
     }
    },
    "colab_type": "code",
    "id": "vapY7LQC_Oxz"
   },
   "outputs": [],
   "source": [
    "quantiles = no_of_rated_movies_per_user.quantile(np.arange(0,1.01,0.01), interpolation='higher')"
   ]
  },
  {
   "cell_type": "code",
   "execution_count": 0,
   "metadata": {
    "colab": {
     "autoexec": {
      "startup": false,
      "wait_interval": 0
     }
    },
    "colab_type": "code",
    "id": "yQmfTZu6_Ox3",
    "outputId": "d67ad609-23e5-4aed-b8d3-69420c4572d8"
   },
   "outputs": [
    {
     "data": {
      "application/javascript": [
       "/* Put everything inside the global mpl namespace */\n",
       "window.mpl = {};\n",
       "\n",
       "\n",
       "mpl.get_websocket_type = function() {\n",
       "    if (typeof(WebSocket) !== 'undefined') {\n",
       "        return WebSocket;\n",
       "    } else if (typeof(MozWebSocket) !== 'undefined') {\n",
       "        return MozWebSocket;\n",
       "    } else {\n",
       "        alert('Your browser does not have WebSocket support.' +\n",
       "              'Please try Chrome, Safari or Firefox ≥ 6. ' +\n",
       "              'Firefox 4 and 5 are also supported but you ' +\n",
       "              'have to enable WebSockets in about:config.');\n",
       "    };\n",
       "}\n",
       "\n",
       "mpl.figure = function(figure_id, websocket, ondownload, parent_element) {\n",
       "    this.id = figure_id;\n",
       "\n",
       "    this.ws = websocket;\n",
       "\n",
       "    this.supports_binary = (this.ws.binaryType != undefined);\n",
       "\n",
       "    if (!this.supports_binary) {\n",
       "        var warnings = document.getElementById(\"mpl-warnings\");\n",
       "        if (warnings) {\n",
       "            warnings.style.display = 'block';\n",
       "            warnings.textContent = (\n",
       "                \"This browser does not support binary websocket messages. \" +\n",
       "                    \"Performance may be slow.\");\n",
       "        }\n",
       "    }\n",
       "\n",
       "    this.imageObj = new Image();\n",
       "\n",
       "    this.context = undefined;\n",
       "    this.message = undefined;\n",
       "    this.canvas = undefined;\n",
       "    this.rubberband_canvas = undefined;\n",
       "    this.rubberband_context = undefined;\n",
       "    this.format_dropdown = undefined;\n",
       "\n",
       "    this.image_mode = 'full';\n",
       "\n",
       "    this.root = $('<div/>');\n",
       "    this._root_extra_style(this.root)\n",
       "    this.root.attr('style', 'display: inline-block');\n",
       "\n",
       "    $(parent_element).append(this.root);\n",
       "\n",
       "    this._init_header(this);\n",
       "    this._init_canvas(this);\n",
       "    this._init_toolbar(this);\n",
       "\n",
       "    var fig = this;\n",
       "\n",
       "    this.waiting = false;\n",
       "\n",
       "    this.ws.onopen =  function () {\n",
       "            fig.send_message(\"supports_binary\", {value: fig.supports_binary});\n",
       "            fig.send_message(\"send_image_mode\", {});\n",
       "            if (mpl.ratio != 1) {\n",
       "                fig.send_message(\"set_dpi_ratio\", {'dpi_ratio': mpl.ratio});\n",
       "            }\n",
       "            fig.send_message(\"refresh\", {});\n",
       "        }\n",
       "\n",
       "    this.imageObj.onload = function() {\n",
       "            if (fig.image_mode == 'full') {\n",
       "                // Full images could contain transparency (where diff images\n",
       "                // almost always do), so we need to clear the canvas so that\n",
       "                // there is no ghosting.\n",
       "                fig.context.clearRect(0, 0, fig.canvas.width, fig.canvas.height);\n",
       "            }\n",
       "            fig.context.drawImage(fig.imageObj, 0, 0);\n",
       "        };\n",
       "\n",
       "    this.imageObj.onunload = function() {\n",
       "        fig.ws.close();\n",
       "    }\n",
       "\n",
       "    this.ws.onmessage = this._make_on_message_function(this);\n",
       "\n",
       "    this.ondownload = ondownload;\n",
       "}\n",
       "\n",
       "mpl.figure.prototype._init_header = function() {\n",
       "    var titlebar = $(\n",
       "        '<div class=\"ui-dialog-titlebar ui-widget-header ui-corner-all ' +\n",
       "        'ui-helper-clearfix\"/>');\n",
       "    var titletext = $(\n",
       "        '<div class=\"ui-dialog-title\" style=\"width: 100%; ' +\n",
       "        'text-align: center; padding: 3px;\"/>');\n",
       "    titlebar.append(titletext)\n",
       "    this.root.append(titlebar);\n",
       "    this.header = titletext[0];\n",
       "}\n",
       "\n",
       "\n",
       "\n",
       "mpl.figure.prototype._canvas_extra_style = function(canvas_div) {\n",
       "\n",
       "}\n",
       "\n",
       "\n",
       "mpl.figure.prototype._root_extra_style = function(canvas_div) {\n",
       "\n",
       "}\n",
       "\n",
       "mpl.figure.prototype._init_canvas = function() {\n",
       "    var fig = this;\n",
       "\n",
       "    var canvas_div = $('<div/>');\n",
       "\n",
       "    canvas_div.attr('style', 'position: relative; clear: both; outline: 0');\n",
       "\n",
       "    function canvas_keyboard_event(event) {\n",
       "        return fig.key_event(event, event['data']);\n",
       "    }\n",
       "\n",
       "    canvas_div.keydown('key_press', canvas_keyboard_event);\n",
       "    canvas_div.keyup('key_release', canvas_keyboard_event);\n",
       "    this.canvas_div = canvas_div\n",
       "    this._canvas_extra_style(canvas_div)\n",
       "    this.root.append(canvas_div);\n",
       "\n",
       "    var canvas = $('<canvas/>');\n",
       "    canvas.addClass('mpl-canvas');\n",
       "    canvas.attr('style', \"left: 0; top: 0; z-index: 0; outline: 0\")\n",
       "\n",
       "    this.canvas = canvas[0];\n",
       "    this.context = canvas[0].getContext(\"2d\");\n",
       "\n",
       "    var backingStore = this.context.backingStorePixelRatio ||\n",
       "\tthis.context.webkitBackingStorePixelRatio ||\n",
       "\tthis.context.mozBackingStorePixelRatio ||\n",
       "\tthis.context.msBackingStorePixelRatio ||\n",
       "\tthis.context.oBackingStorePixelRatio ||\n",
       "\tthis.context.backingStorePixelRatio || 1;\n",
       "\n",
       "    mpl.ratio = (window.devicePixelRatio || 1) / backingStore;\n",
       "\n",
       "    var rubberband = $('<canvas/>');\n",
       "    rubberband.attr('style', \"position: absolute; left: 0; top: 0; z-index: 1;\")\n",
       "\n",
       "    var pass_mouse_events = true;\n",
       "\n",
       "    canvas_div.resizable({\n",
       "        start: function(event, ui) {\n",
       "            pass_mouse_events = false;\n",
       "        },\n",
       "        resize: function(event, ui) {\n",
       "            fig.request_resize(ui.size.width, ui.size.height);\n",
       "        },\n",
       "        stop: function(event, ui) {\n",
       "            pass_mouse_events = true;\n",
       "            fig.request_resize(ui.size.width, ui.size.height);\n",
       "        },\n",
       "    });\n",
       "\n",
       "    function mouse_event_fn(event) {\n",
       "        if (pass_mouse_events)\n",
       "            return fig.mouse_event(event, event['data']);\n",
       "    }\n",
       "\n",
       "    rubberband.mousedown('button_press', mouse_event_fn);\n",
       "    rubberband.mouseup('button_release', mouse_event_fn);\n",
       "    // Throttle sequential mouse events to 1 every 20ms.\n",
       "    rubberband.mousemove('motion_notify', mouse_event_fn);\n",
       "\n",
       "    rubberband.mouseenter('figure_enter', mouse_event_fn);\n",
       "    rubberband.mouseleave('figure_leave', mouse_event_fn);\n",
       "\n",
       "    canvas_div.on(\"wheel\", function (event) {\n",
       "        event = event.originalEvent;\n",
       "        event['data'] = 'scroll'\n",
       "        if (event.deltaY < 0) {\n",
       "            event.step = 1;\n",
       "        } else {\n",
       "            event.step = -1;\n",
       "        }\n",
       "        mouse_event_fn(event);\n",
       "    });\n",
       "\n",
       "    canvas_div.append(canvas);\n",
       "    canvas_div.append(rubberband);\n",
       "\n",
       "    this.rubberband = rubberband;\n",
       "    this.rubberband_canvas = rubberband[0];\n",
       "    this.rubberband_context = rubberband[0].getContext(\"2d\");\n",
       "    this.rubberband_context.strokeStyle = \"#000000\";\n",
       "\n",
       "    this._resize_canvas = function(width, height) {\n",
       "        // Keep the size of the canvas, canvas container, and rubber band\n",
       "        // canvas in synch.\n",
       "        canvas_div.css('width', width)\n",
       "        canvas_div.css('height', height)\n",
       "\n",
       "        canvas.attr('width', width * mpl.ratio);\n",
       "        canvas.attr('height', height * mpl.ratio);\n",
       "        canvas.attr('style', 'width: ' + width + 'px; height: ' + height + 'px;');\n",
       "\n",
       "        rubberband.attr('width', width);\n",
       "        rubberband.attr('height', height);\n",
       "    }\n",
       "\n",
       "    // Set the figure to an initial 600x600px, this will subsequently be updated\n",
       "    // upon first draw.\n",
       "    this._resize_canvas(600, 600);\n",
       "\n",
       "    // Disable right mouse context menu.\n",
       "    $(this.rubberband_canvas).bind(\"contextmenu\",function(e){\n",
       "        return false;\n",
       "    });\n",
       "\n",
       "    function set_focus () {\n",
       "        canvas.focus();\n",
       "        canvas_div.focus();\n",
       "    }\n",
       "\n",
       "    window.setTimeout(set_focus, 100);\n",
       "}\n",
       "\n",
       "mpl.figure.prototype._init_toolbar = function() {\n",
       "    var fig = this;\n",
       "\n",
       "    var nav_element = $('<div/>')\n",
       "    nav_element.attr('style', 'width: 100%');\n",
       "    this.root.append(nav_element);\n",
       "\n",
       "    // Define a callback function for later on.\n",
       "    function toolbar_event(event) {\n",
       "        return fig.toolbar_button_onclick(event['data']);\n",
       "    }\n",
       "    function toolbar_mouse_event(event) {\n",
       "        return fig.toolbar_button_onmouseover(event['data']);\n",
       "    }\n",
       "\n",
       "    for(var toolbar_ind in mpl.toolbar_items) {\n",
       "        var name = mpl.toolbar_items[toolbar_ind][0];\n",
       "        var tooltip = mpl.toolbar_items[toolbar_ind][1];\n",
       "        var image = mpl.toolbar_items[toolbar_ind][2];\n",
       "        var method_name = mpl.toolbar_items[toolbar_ind][3];\n",
       "\n",
       "        if (!name) {\n",
       "            // put a spacer in here.\n",
       "            continue;\n",
       "        }\n",
       "        var button = $('<button/>');\n",
       "        button.addClass('ui-button ui-widget ui-state-default ui-corner-all ' +\n",
       "                        'ui-button-icon-only');\n",
       "        button.attr('role', 'button');\n",
       "        button.attr('aria-disabled', 'false');\n",
       "        button.click(method_name, toolbar_event);\n",
       "        button.mouseover(tooltip, toolbar_mouse_event);\n",
       "\n",
       "        var icon_img = $('<span/>');\n",
       "        icon_img.addClass('ui-button-icon-primary ui-icon');\n",
       "        icon_img.addClass(image);\n",
       "        icon_img.addClass('ui-corner-all');\n",
       "\n",
       "        var tooltip_span = $('<span/>');\n",
       "        tooltip_span.addClass('ui-button-text');\n",
       "        tooltip_span.html(tooltip);\n",
       "\n",
       "        button.append(icon_img);\n",
       "        button.append(tooltip_span);\n",
       "\n",
       "        nav_element.append(button);\n",
       "    }\n",
       "\n",
       "    var fmt_picker_span = $('<span/>');\n",
       "\n",
       "    var fmt_picker = $('<select/>');\n",
       "    fmt_picker.addClass('mpl-toolbar-option ui-widget ui-widget-content');\n",
       "    fmt_picker_span.append(fmt_picker);\n",
       "    nav_element.append(fmt_picker_span);\n",
       "    this.format_dropdown = fmt_picker[0];\n",
       "\n",
       "    for (var ind in mpl.extensions) {\n",
       "        var fmt = mpl.extensions[ind];\n",
       "        var option = $(\n",
       "            '<option/>', {selected: fmt === mpl.default_extension}).html(fmt);\n",
       "        fmt_picker.append(option)\n",
       "    }\n",
       "\n",
       "    // Add hover states to the ui-buttons\n",
       "    $( \".ui-button\" ).hover(\n",
       "        function() { $(this).addClass(\"ui-state-hover\");},\n",
       "        function() { $(this).removeClass(\"ui-state-hover\");}\n",
       "    );\n",
       "\n",
       "    var status_bar = $('<span class=\"mpl-message\"/>');\n",
       "    nav_element.append(status_bar);\n",
       "    this.message = status_bar[0];\n",
       "}\n",
       "\n",
       "mpl.figure.prototype.request_resize = function(x_pixels, y_pixels) {\n",
       "    // Request matplotlib to resize the figure. Matplotlib will then trigger a resize in the client,\n",
       "    // which will in turn request a refresh of the image.\n",
       "    this.send_message('resize', {'width': x_pixels, 'height': y_pixels});\n",
       "}\n",
       "\n",
       "mpl.figure.prototype.send_message = function(type, properties) {\n",
       "    properties['type'] = type;\n",
       "    properties['figure_id'] = this.id;\n",
       "    this.ws.send(JSON.stringify(properties));\n",
       "}\n",
       "\n",
       "mpl.figure.prototype.send_draw_message = function() {\n",
       "    if (!this.waiting) {\n",
       "        this.waiting = true;\n",
       "        this.ws.send(JSON.stringify({type: \"draw\", figure_id: this.id}));\n",
       "    }\n",
       "}\n",
       "\n",
       "\n",
       "mpl.figure.prototype.handle_save = function(fig, msg) {\n",
       "    var format_dropdown = fig.format_dropdown;\n",
       "    var format = format_dropdown.options[format_dropdown.selectedIndex].value;\n",
       "    fig.ondownload(fig, format);\n",
       "}\n",
       "\n",
       "\n",
       "mpl.figure.prototype.handle_resize = function(fig, msg) {\n",
       "    var size = msg['size'];\n",
       "    if (size[0] != fig.canvas.width || size[1] != fig.canvas.height) {\n",
       "        fig._resize_canvas(size[0], size[1]);\n",
       "        fig.send_message(\"refresh\", {});\n",
       "    };\n",
       "}\n",
       "\n",
       "mpl.figure.prototype.handle_rubberband = function(fig, msg) {\n",
       "    var x0 = msg['x0'] / mpl.ratio;\n",
       "    var y0 = (fig.canvas.height - msg['y0']) / mpl.ratio;\n",
       "    var x1 = msg['x1'] / mpl.ratio;\n",
       "    var y1 = (fig.canvas.height - msg['y1']) / mpl.ratio;\n",
       "    x0 = Math.floor(x0) + 0.5;\n",
       "    y0 = Math.floor(y0) + 0.5;\n",
       "    x1 = Math.floor(x1) + 0.5;\n",
       "    y1 = Math.floor(y1) + 0.5;\n",
       "    var min_x = Math.min(x0, x1);\n",
       "    var min_y = Math.min(y0, y1);\n",
       "    var width = Math.abs(x1 - x0);\n",
       "    var height = Math.abs(y1 - y0);\n",
       "\n",
       "    fig.rubberband_context.clearRect(\n",
       "        0, 0, fig.canvas.width, fig.canvas.height);\n",
       "\n",
       "    fig.rubberband_context.strokeRect(min_x, min_y, width, height);\n",
       "}\n",
       "\n",
       "mpl.figure.prototype.handle_figure_label = function(fig, msg) {\n",
       "    // Updates the figure title.\n",
       "    fig.header.textContent = msg['label'];\n",
       "}\n",
       "\n",
       "mpl.figure.prototype.handle_cursor = function(fig, msg) {\n",
       "    var cursor = msg['cursor'];\n",
       "    switch(cursor)\n",
       "    {\n",
       "    case 0:\n",
       "        cursor = 'pointer';\n",
       "        break;\n",
       "    case 1:\n",
       "        cursor = 'default';\n",
       "        break;\n",
       "    case 2:\n",
       "        cursor = 'crosshair';\n",
       "        break;\n",
       "    case 3:\n",
       "        cursor = 'move';\n",
       "        break;\n",
       "    }\n",
       "    fig.rubberband_canvas.style.cursor = cursor;\n",
       "}\n",
       "\n",
       "mpl.figure.prototype.handle_message = function(fig, msg) {\n",
       "    fig.message.textContent = msg['message'];\n",
       "}\n",
       "\n",
       "mpl.figure.prototype.handle_draw = function(fig, msg) {\n",
       "    // Request the server to send over a new figure.\n",
       "    fig.send_draw_message();\n",
       "}\n",
       "\n",
       "mpl.figure.prototype.handle_image_mode = function(fig, msg) {\n",
       "    fig.image_mode = msg['mode'];\n",
       "}\n",
       "\n",
       "mpl.figure.prototype.updated_canvas_event = function() {\n",
       "    // Called whenever the canvas gets updated.\n",
       "    this.send_message(\"ack\", {});\n",
       "}\n",
       "\n",
       "// A function to construct a web socket function for onmessage handling.\n",
       "// Called in the figure constructor.\n",
       "mpl.figure.prototype._make_on_message_function = function(fig) {\n",
       "    return function socket_on_message(evt) {\n",
       "        if (evt.data instanceof Blob) {\n",
       "            /* FIXME: We get \"Resource interpreted as Image but\n",
       "             * transferred with MIME type text/plain:\" errors on\n",
       "             * Chrome.  But how to set the MIME type?  It doesn't seem\n",
       "             * to be part of the websocket stream */\n",
       "            evt.data.type = \"image/png\";\n",
       "\n",
       "            /* Free the memory for the previous frames */\n",
       "            if (fig.imageObj.src) {\n",
       "                (window.URL || window.webkitURL).revokeObjectURL(\n",
       "                    fig.imageObj.src);\n",
       "            }\n",
       "\n",
       "            fig.imageObj.src = (window.URL || window.webkitURL).createObjectURL(\n",
       "                evt.data);\n",
       "            fig.updated_canvas_event();\n",
       "            fig.waiting = false;\n",
       "            return;\n",
       "        }\n",
       "        else if (typeof evt.data === 'string' && evt.data.slice(0, 21) == \"data:image/png;base64\") {\n",
       "            fig.imageObj.src = evt.data;\n",
       "            fig.updated_canvas_event();\n",
       "            fig.waiting = false;\n",
       "            return;\n",
       "        }\n",
       "\n",
       "        var msg = JSON.parse(evt.data);\n",
       "        var msg_type = msg['type'];\n",
       "\n",
       "        // Call the  \"handle_{type}\" callback, which takes\n",
       "        // the figure and JSON message as its only arguments.\n",
       "        try {\n",
       "            var callback = fig[\"handle_\" + msg_type];\n",
       "        } catch (e) {\n",
       "            console.log(\"No handler for the '\" + msg_type + \"' message type: \", msg);\n",
       "            return;\n",
       "        }\n",
       "\n",
       "        if (callback) {\n",
       "            try {\n",
       "                // console.log(\"Handling '\" + msg_type + \"' message: \", msg);\n",
       "                callback(fig, msg);\n",
       "            } catch (e) {\n",
       "                console.log(\"Exception inside the 'handler_\" + msg_type + \"' callback:\", e, e.stack, msg);\n",
       "            }\n",
       "        }\n",
       "    };\n",
       "}\n",
       "\n",
       "// from http://stackoverflow.com/questions/1114465/getting-mouse-location-in-canvas\n",
       "mpl.findpos = function(e) {\n",
       "    //this section is from http://www.quirksmode.org/js/events_properties.html\n",
       "    var targ;\n",
       "    if (!e)\n",
       "        e = window.event;\n",
       "    if (e.target)\n",
       "        targ = e.target;\n",
       "    else if (e.srcElement)\n",
       "        targ = e.srcElement;\n",
       "    if (targ.nodeType == 3) // defeat Safari bug\n",
       "        targ = targ.parentNode;\n",
       "\n",
       "    // jQuery normalizes the pageX and pageY\n",
       "    // pageX,Y are the mouse positions relative to the document\n",
       "    // offset() returns the position of the element relative to the document\n",
       "    var x = e.pageX - $(targ).offset().left;\n",
       "    var y = e.pageY - $(targ).offset().top;\n",
       "\n",
       "    return {\"x\": x, \"y\": y};\n",
       "};\n",
       "\n",
       "/*\n",
       " * return a copy of an object with only non-object keys\n",
       " * we need this to avoid circular references\n",
       " * http://stackoverflow.com/a/24161582/3208463\n",
       " */\n",
       "function simpleKeys (original) {\n",
       "  return Object.keys(original).reduce(function (obj, key) {\n",
       "    if (typeof original[key] !== 'object')\n",
       "        obj[key] = original[key]\n",
       "    return obj;\n",
       "  }, {});\n",
       "}\n",
       "\n",
       "mpl.figure.prototype.mouse_event = function(event, name) {\n",
       "    var canvas_pos = mpl.findpos(event)\n",
       "\n",
       "    if (name === 'button_press')\n",
       "    {\n",
       "        this.canvas.focus();\n",
       "        this.canvas_div.focus();\n",
       "    }\n",
       "\n",
       "    var x = canvas_pos.x * mpl.ratio;\n",
       "    var y = canvas_pos.y * mpl.ratio;\n",
       "\n",
       "    this.send_message(name, {x: x, y: y, button: event.button,\n",
       "                             step: event.step,\n",
       "                             guiEvent: simpleKeys(event)});\n",
       "\n",
       "    /* This prevents the web browser from automatically changing to\n",
       "     * the text insertion cursor when the button is pressed.  We want\n",
       "     * to control all of the cursor setting manually through the\n",
       "     * 'cursor' event from matplotlib */\n",
       "    event.preventDefault();\n",
       "    return false;\n",
       "}\n",
       "\n",
       "mpl.figure.prototype._key_event_extra = function(event, name) {\n",
       "    // Handle any extra behaviour associated with a key event\n",
       "}\n",
       "\n",
       "mpl.figure.prototype.key_event = function(event, name) {\n",
       "\n",
       "    // Prevent repeat events\n",
       "    if (name == 'key_press')\n",
       "    {\n",
       "        if (event.which === this._key)\n",
       "            return;\n",
       "        else\n",
       "            this._key = event.which;\n",
       "    }\n",
       "    if (name == 'key_release')\n",
       "        this._key = null;\n",
       "\n",
       "    var value = '';\n",
       "    if (event.ctrlKey && event.which != 17)\n",
       "        value += \"ctrl+\";\n",
       "    if (event.altKey && event.which != 18)\n",
       "        value += \"alt+\";\n",
       "    if (event.shiftKey && event.which != 16)\n",
       "        value += \"shift+\";\n",
       "\n",
       "    value += 'k';\n",
       "    value += event.which.toString();\n",
       "\n",
       "    this._key_event_extra(event, name);\n",
       "\n",
       "    this.send_message(name, {key: value,\n",
       "                             guiEvent: simpleKeys(event)});\n",
       "    return false;\n",
       "}\n",
       "\n",
       "mpl.figure.prototype.toolbar_button_onclick = function(name) {\n",
       "    if (name == 'download') {\n",
       "        this.handle_save(this, null);\n",
       "    } else {\n",
       "        this.send_message(\"toolbar_button\", {name: name});\n",
       "    }\n",
       "};\n",
       "\n",
       "mpl.figure.prototype.toolbar_button_onmouseover = function(tooltip) {\n",
       "    this.message.textContent = tooltip;\n",
       "};\n",
       "mpl.toolbar_items = [[\"Home\", \"Reset original view\", \"fa fa-home icon-home\", \"home\"], [\"Back\", \"Back to  previous view\", \"fa fa-arrow-left icon-arrow-left\", \"back\"], [\"Forward\", \"Forward to next view\", \"fa fa-arrow-right icon-arrow-right\", \"forward\"], [\"\", \"\", \"\", \"\"], [\"Pan\", \"Pan axes with left mouse, zoom with right\", \"fa fa-arrows icon-move\", \"pan\"], [\"Zoom\", \"Zoom to rectangle\", \"fa fa-square-o icon-check-empty\", \"zoom\"], [\"\", \"\", \"\", \"\"], [\"Download\", \"Download plot\", \"fa fa-floppy-o icon-save\", \"download\"]];\n",
       "\n",
       "mpl.extensions = [\"eps\", \"jpeg\", \"pdf\", \"png\", \"ps\", \"raw\", \"svg\", \"tif\"];\n",
       "\n",
       "mpl.default_extension = \"png\";var comm_websocket_adapter = function(comm) {\n",
       "    // Create a \"websocket\"-like object which calls the given IPython comm\n",
       "    // object with the appropriate methods. Currently this is a non binary\n",
       "    // socket, so there is still some room for performance tuning.\n",
       "    var ws = {};\n",
       "\n",
       "    ws.close = function() {\n",
       "        comm.close()\n",
       "    };\n",
       "    ws.send = function(m) {\n",
       "        //console.log('sending', m);\n",
       "        comm.send(m);\n",
       "    };\n",
       "    // Register the callback with on_msg.\n",
       "    comm.on_msg(function(msg) {\n",
       "        //console.log('receiving', msg['content']['data'], msg);\n",
       "        // Pass the mpl event to the overriden (by mpl) onmessage function.\n",
       "        ws.onmessage(msg['content']['data'])\n",
       "    });\n",
       "    return ws;\n",
       "}\n",
       "\n",
       "mpl.mpl_figure_comm = function(comm, msg) {\n",
       "    // This is the function which gets called when the mpl process\n",
       "    // starts-up an IPython Comm through the \"matplotlib\" channel.\n",
       "\n",
       "    var id = msg.content.data.id;\n",
       "    // Get hold of the div created by the display call when the Comm\n",
       "    // socket was opened in Python.\n",
       "    var element = $(\"#\" + id);\n",
       "    var ws_proxy = comm_websocket_adapter(comm)\n",
       "\n",
       "    function ondownload(figure, format) {\n",
       "        window.open(figure.imageObj.src);\n",
       "    }\n",
       "\n",
       "    var fig = new mpl.figure(id, ws_proxy,\n",
       "                           ondownload,\n",
       "                           element.get(0));\n",
       "\n",
       "    // Call onopen now - mpl needs it, as it is assuming we've passed it a real\n",
       "    // web socket which is closed, not our websocket->open comm proxy.\n",
       "    ws_proxy.onopen();\n",
       "\n",
       "    fig.parent_element = element.get(0);\n",
       "    fig.cell_info = mpl.find_output_cell(\"<div id='\" + id + \"'></div>\");\n",
       "    if (!fig.cell_info) {\n",
       "        console.error(\"Failed to find cell for figure\", id, fig);\n",
       "        return;\n",
       "    }\n",
       "\n",
       "    var output_index = fig.cell_info[2]\n",
       "    var cell = fig.cell_info[0];\n",
       "\n",
       "};\n",
       "\n",
       "mpl.figure.prototype.handle_close = function(fig, msg) {\n",
       "    var width = fig.canvas.width/mpl.ratio\n",
       "    fig.root.unbind('remove')\n",
       "\n",
       "    // Update the output cell to use the data from the current canvas.\n",
       "    fig.push_to_output();\n",
       "    var dataURL = fig.canvas.toDataURL();\n",
       "    // Re-enable the keyboard manager in IPython - without this line, in FF,\n",
       "    // the notebook keyboard shortcuts fail.\n",
       "    IPython.keyboard_manager.enable()\n",
       "    $(fig.parent_element).html('<img src=\"' + dataURL + '\" width=\"' + width + '\">');\n",
       "    fig.close_ws(fig, msg);\n",
       "}\n",
       "\n",
       "mpl.figure.prototype.close_ws = function(fig, msg){\n",
       "    fig.send_message('closing', msg);\n",
       "    // fig.ws.close()\n",
       "}\n",
       "\n",
       "mpl.figure.prototype.push_to_output = function(remove_interactive) {\n",
       "    // Turn the data on the canvas into data in the output cell.\n",
       "    var width = this.canvas.width/mpl.ratio\n",
       "    var dataURL = this.canvas.toDataURL();\n",
       "    this.cell_info[1]['text/html'] = '<img src=\"' + dataURL + '\" width=\"' + width + '\">';\n",
       "}\n",
       "\n",
       "mpl.figure.prototype.updated_canvas_event = function() {\n",
       "    // Tell IPython that the notebook contents must change.\n",
       "    IPython.notebook.set_dirty(true);\n",
       "    this.send_message(\"ack\", {});\n",
       "    var fig = this;\n",
       "    // Wait a second, then push the new image to the DOM so\n",
       "    // that it is saved nicely (might be nice to debounce this).\n",
       "    setTimeout(function () { fig.push_to_output() }, 1000);\n",
       "}\n",
       "\n",
       "mpl.figure.prototype._init_toolbar = function() {\n",
       "    var fig = this;\n",
       "\n",
       "    var nav_element = $('<div/>')\n",
       "    nav_element.attr('style', 'width: 100%');\n",
       "    this.root.append(nav_element);\n",
       "\n",
       "    // Define a callback function for later on.\n",
       "    function toolbar_event(event) {\n",
       "        return fig.toolbar_button_onclick(event['data']);\n",
       "    }\n",
       "    function toolbar_mouse_event(event) {\n",
       "        return fig.toolbar_button_onmouseover(event['data']);\n",
       "    }\n",
       "\n",
       "    for(var toolbar_ind in mpl.toolbar_items){\n",
       "        var name = mpl.toolbar_items[toolbar_ind][0];\n",
       "        var tooltip = mpl.toolbar_items[toolbar_ind][1];\n",
       "        var image = mpl.toolbar_items[toolbar_ind][2];\n",
       "        var method_name = mpl.toolbar_items[toolbar_ind][3];\n",
       "\n",
       "        if (!name) { continue; };\n",
       "\n",
       "        var button = $('<button class=\"btn btn-default\" href=\"#\" title=\"' + name + '\"><i class=\"fa ' + image + ' fa-lg\"></i></button>');\n",
       "        button.click(method_name, toolbar_event);\n",
       "        button.mouseover(tooltip, toolbar_mouse_event);\n",
       "        nav_element.append(button);\n",
       "    }\n",
       "\n",
       "    // Add the status bar.\n",
       "    var status_bar = $('<span class=\"mpl-message\" style=\"text-align:right; float: right;\"/>');\n",
       "    nav_element.append(status_bar);\n",
       "    this.message = status_bar[0];\n",
       "\n",
       "    // Add the close button to the window.\n",
       "    var buttongrp = $('<div class=\"btn-group inline pull-right\"></div>');\n",
       "    var button = $('<button class=\"btn btn-mini btn-primary\" href=\"#\" title=\"Stop Interaction\"><i class=\"fa fa-power-off icon-remove icon-large\"></i></button>');\n",
       "    button.click(function (evt) { fig.handle_close(fig, {}); } );\n",
       "    button.mouseover('Stop Interaction', toolbar_mouse_event);\n",
       "    buttongrp.append(button);\n",
       "    var titlebar = this.root.find($('.ui-dialog-titlebar'));\n",
       "    titlebar.prepend(buttongrp);\n",
       "}\n",
       "\n",
       "mpl.figure.prototype._root_extra_style = function(el){\n",
       "    var fig = this\n",
       "    el.on(\"remove\", function(){\n",
       "\tfig.close_ws(fig, {});\n",
       "    });\n",
       "}\n",
       "\n",
       "mpl.figure.prototype._canvas_extra_style = function(el){\n",
       "    // this is important to make the div 'focusable\n",
       "    el.attr('tabindex', 0)\n",
       "    // reach out to IPython and tell the keyboard manager to turn it's self\n",
       "    // off when our div gets focus\n",
       "\n",
       "    // location in version 3\n",
       "    if (IPython.notebook.keyboard_manager) {\n",
       "        IPython.notebook.keyboard_manager.register_events(el);\n",
       "    }\n",
       "    else {\n",
       "        // location in version 2\n",
       "        IPython.keyboard_manager.register_events(el);\n",
       "    }\n",
       "\n",
       "}\n",
       "\n",
       "mpl.figure.prototype._key_event_extra = function(event, name) {\n",
       "    var manager = IPython.notebook.keyboard_manager;\n",
       "    if (!manager)\n",
       "        manager = IPython.keyboard_manager;\n",
       "\n",
       "    // Check for shift+enter\n",
       "    if (event.shiftKey && event.which == 13) {\n",
       "        this.canvas_div.blur();\n",
       "        event.shiftKey = false;\n",
       "        // Send a \"J\" for go to next cell\n",
       "        event.which = 74;\n",
       "        event.keyCode = 74;\n",
       "        manager.command_mode();\n",
       "        manager.handle_keydown(event);\n",
       "    }\n",
       "}\n",
       "\n",
       "mpl.figure.prototype.handle_save = function(fig, msg) {\n",
       "    fig.ondownload(fig, null);\n",
       "}\n",
       "\n",
       "\n",
       "mpl.find_output_cell = function(html_output) {\n",
       "    // Return the cell and output element which can be found *uniquely* in the notebook.\n",
       "    // Note - this is a bit hacky, but it is done because the \"notebook_saving.Notebook\"\n",
       "    // IPython event is triggered only after the cells have been serialised, which for\n",
       "    // our purposes (turning an active figure into a static one), is too late.\n",
       "    var cells = IPython.notebook.get_cells();\n",
       "    var ncells = cells.length;\n",
       "    for (var i=0; i<ncells; i++) {\n",
       "        var cell = cells[i];\n",
       "        if (cell.cell_type === 'code'){\n",
       "            for (var j=0; j<cell.output_area.outputs.length; j++) {\n",
       "                var data = cell.output_area.outputs[j];\n",
       "                if (data.data) {\n",
       "                    // IPython >= 3 moved mimebundle to data attribute of output\n",
       "                    data = data.data;\n",
       "                }\n",
       "                if (data['text/html'] == html_output) {\n",
       "                    return [cell, data, j];\n",
       "                }\n",
       "            }\n",
       "        }\n",
       "    }\n",
       "}\n",
       "\n",
       "// Register the function which deals with the matplotlib target/channel.\n",
       "// The kernel may be null if the page has been refreshed.\n",
       "if (IPython.notebook.kernel != null) {\n",
       "    IPython.notebook.kernel.comm_manager.register_target('matplotlib', mpl.mpl_figure_comm);\n",
       "}\n"
      ],
      "text/plain": [
       "<IPython.core.display.Javascript object>"
      ]
     },
     "metadata": {
      "tags": []
     },
     "output_type": "display_data"
    },
    {
     "data": {
      "text/html": [
       "<img src=\"data:image/png;base64,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\" width=\"640\">"
      ],
      "text/plain": [
       "<IPython.core.display.HTML object>"
      ]
     },
     "metadata": {
      "tags": []
     },
     "output_type": "display_data"
    }
   ],
   "source": [
    "plt.title(\"Quantiles and their Values\")\n",
    "quantiles.plot()\n",
    "# quantiles with 0.05 difference\n",
    "plt.scatter(x=quantiles.index[::5], y=quantiles.values[::5], c='orange', label=\"quantiles with 0.05 intervals\")\n",
    "# quantiles with 0.25 difference\n",
    "plt.scatter(x=quantiles.index[::25], y=quantiles.values[::25], c='m', label = \"quantiles with 0.25 intervals\")\n",
    "plt.ylabel('No of ratings by user')\n",
    "plt.xlabel('Value at the quantile')\n",
    "plt.legend(loc='best')\n",
    "\n",
    "# annotate the 25th, 50th, 75th and 100th percentile values....\n",
    "for x,y in zip(quantiles.index[::25], quantiles[::25]):\n",
    "    plt.annotate(s=\"({} , {})\".format(x,y), xy=(x,y), xytext=(x-0.05, y+500)\n",
    "                ,fontweight='bold')\n",
    "\n",
    "\n",
    "plt.show()"
   ]
  },
  {
   "cell_type": "code",
   "execution_count": 0,
   "metadata": {
    "colab": {
     "autoexec": {
      "startup": false,
      "wait_interval": 0
     }
    },
    "colab_type": "code",
    "id": "QzFKeZa4_Ox6",
    "outputId": "d682e25f-7bf9-4a5f-c18a-14b41db118e9"
   },
   "outputs": [
    {
     "data": {
      "text/plain": [
       "0.00        1\n",
       "0.05        7\n",
       "0.10       15\n",
       "0.15       21\n",
       "0.20       27\n",
       "0.25       34\n",
       "0.30       41\n",
       "0.35       50\n",
       "0.40       60\n",
       "0.45       73\n",
       "0.50       89\n",
       "0.55      109\n",
       "0.60      133\n",
       "0.65      163\n",
       "0.70      199\n",
       "0.75      245\n",
       "0.80      307\n",
       "0.85      392\n",
       "0.90      520\n",
       "0.95      749\n",
       "1.00    17112\n",
       "Name: rating, dtype: int64"
      ]
     },
     "execution_count": 25,
     "metadata": {
      "tags": []
     },
     "output_type": "execute_result"
    }
   ],
   "source": [
    "quantiles[::5]"
   ]
  },
  {
   "cell_type": "markdown",
   "metadata": {
    "colab_type": "text",
    "id": "7S0P9yB1_Ox9"
   },
   "source": [
    "__how many ratings at the last 5% of all ratings__??"
   ]
  },
  {
   "cell_type": "code",
   "execution_count": 0,
   "metadata": {
    "colab": {
     "autoexec": {
      "startup": false,
      "wait_interval": 0
     }
    },
    "colab_type": "code",
    "id": "k57qmnxV_Ox-",
    "outputId": "d429b7c9-1d1b-4ccc-98f4-0ac0a708c934"
   },
   "outputs": [
    {
     "name": "stdout",
     "output_type": "stream",
     "text": [
      "\n",
      " No of ratings at last 5 percentile : 20305\n",
      "\n"
     ]
    }
   ],
   "source": [
    "print('\\n No of ratings at last 5 percentile : {}\\n'.format(sum(no_of_rated_movies_per_user>= 749)) )"
   ]
  },
  {
   "cell_type": "markdown",
   "metadata": {
    "colab_type": "text",
    "id": "ZYVpdRKK_OyA"
   },
   "source": [
    "<h3> 3.3.4 Analysis of ratings of a movie given by a user </h3>"
   ]
  },
  {
   "cell_type": "code",
   "execution_count": 15,
   "metadata": {
    "colab": {
     "autoexec": {
      "startup": false,
      "wait_interval": 0
     },
     "base_uri": "https://localhost:8080/",
     "height": 366
    },
    "colab_type": "code",
    "executionInfo": {
     "elapsed": 4042,
     "status": "ok",
     "timestamp": 1531999115217,
     "user": {
      "displayName": "Vishnu vardhan",
      "photoUrl": "//lh3.googleusercontent.com/-aWCh36gokTE/AAAAAAAAAAI/AAAAAAAAEho/sz27AYB6wCw/s50-c-k-no/photo.jpg",
      "userId": "115344496305613697268"
     },
     "user_tz": -330
    },
    "id": "rCOBGJ-m_OyB",
    "outputId": "8fd6557d-c736-4942-c59e-e4a0fc804730"
   },
   "outputs": [
    {
     "data": {
      "image/png": "[encoded data removed]",
      "text/plain": [
       "<matplotlib.figure.Figure at 0x7f7060f12eb8>"
      ]
     },
     "metadata": {
      "tags": []
     },
     "output_type": "display_data"
    }
   ],
   "source": [
    "no_of_ratings_per_movie = train_df.groupby(by='movie')['rating'].count().sort_values(ascending=False)\n",
    "\n",
    "fig = plt.figure(figsize=plt.figaspect(.5))\n",
    "ax = plt.gca()\n",
    "plt.plot(no_of_ratings_per_movie.values)\n",
    "plt.title('# RATINGS per Movie')\n",
    "plt.xlabel('Movie')\n",
    "plt.ylabel('No of Users who rated a movie')\n",
    "ax.set_xticklabels([])\n",
    "\n",
    "plt.show()"
   ]
  },
  {
   "cell_type": "markdown",
   "metadata": {
    "colab_type": "text",
    "id": "IYKAI4pM_OyG"
   },
   "source": [
    "- __It is very skewed.. just like nunmber of ratings given per user.__\n",
    "    \n",
    "    \n",
    "    - There are some movies (which are very popular) which are rated by huge number of users.\n",
    "    \n",
    "    - But most of the movies(like 90%) got some hundereds of ratings."
   ]
  },
  {
   "cell_type": "markdown",
   "metadata": {
    "colab_type": "text",
    "id": "BZ6dRwtO_OyI"
   },
   "source": [
    "<h3> 3.3.5 Number of ratings on each day of the week</h3>"
   ]
  },
  {
   "cell_type": "code",
   "execution_count": 18,
   "metadata": {
    "colab": {
     "autoexec": {
      "startup": false,
      "wait_interval": 0
     },
     "base_uri": "https://localhost:8080/",
     "height": 416
    },
    "colab_type": "code",
    "executionInfo": {
     "elapsed": 92065,
     "status": "ok",
     "timestamp": 1531999242701,
     "user": {
      "displayName": "Vishnu vardhan",
      "photoUrl": "//lh3.googleusercontent.com/-aWCh36gokTE/AAAAAAAAAAI/AAAAAAAAEho/sz27AYB6wCw/s50-c-k-no/photo.jpg",
      "userId": "115344496305613697268"
     },
     "user_tz": -330
    },
    "id": "6JggdNsW_OyJ",
    "outputId": "1e5cbff4-c64e-4c22-c54c-3bf234e32896"
   },
   "outputs": [
    {
     "name": "stderr",
     "output_type": "stream",
     "text": [
      "/usr/local/lib/python3.6/dist-packages/seaborn/categorical.py:1428: FutureWarning: remove_na is deprecated and is a private function. Do not use.\n",
      "  stat_data = remove_na(group_data)\n"
     ]
    },
    {
     "data": {
      "image/png": "[encoded data removed]",
      "text/plain": [
       "<matplotlib.figure.Figure at 0x7f7039d39438>"
      ]
     },
     "metadata": {
      "tags": []
     },
     "output_type": "display_data"
    }
   ],
   "source": [
    "fig, ax = plt.subplots()\n",
    "sns.countplot(x='day_of_week', data=train_df, ax=ax)\n",
    "plt.title('No of ratings on each day...')\n",
    "plt.ylabel('Total no of ratings')\n",
    "plt.xlabel('')\n",
    "ax.set_yticklabels([human(item, 'M') for item in ax.get_yticks()])\n",
    "plt.show()"
   ]
  },
  {
   "cell_type": "code",
   "execution_count": 20,
   "metadata": {
    "colab": {
     "autoexec": {
      "startup": false,
      "wait_interval": 0
     },
     "base_uri": "https://localhost:8080/",
     "height": 432
    },
    "colab_type": "code",
    "executionInfo": {
     "elapsed": 75521,
     "status": "ok",
     "timestamp": 1531999866717,
     "user": {
      "displayName": "Vishnu vardhan",
      "photoUrl": "//lh3.googleusercontent.com/-aWCh36gokTE/AAAAAAAAAAI/AAAAAAAAEho/sz27AYB6wCw/s50-c-k-no/photo.jpg",
      "userId": "115344496305613697268"
     },
     "user_tz": -330
    },
    "id": "KooNkvE1_OyS",
    "outputId": "2d71dd8a-1d41-4e5a-a4f4-2dc67bb9bb91"
   },
   "outputs": [
    {
     "name": "stderr",
     "output_type": "stream",
     "text": [
      "/usr/local/lib/python3.6/dist-packages/seaborn/categorical.py:454: FutureWarning: remove_na is deprecated and is a private function. Do not use.\n",
      "  box_data = remove_na(group_data)\n"
     ]
    },
    {
     "data": {
      "image/png": "[encoded data removed]",
      "text/plain": [
       "<matplotlib.figure.Figure at 0x7f7039bf8128>"
      ]
     },
     "metadata": {
      "tags": []
     },
     "output_type": "display_data"
    },
    {
     "name": "stdout",
     "output_type": "stream",
     "text": [
      "0:01:14.717468\n"
     ]
    }
   ],
   "source": [
    "start = datetime.now()\n",
    "fig = plt.figure(figsize=plt.figaspect(.45))\n",
    "sns.boxplot(y='rating', x='day_of_week', data=train_df)\n",
    "plt.show()\n",
    "print(datetime.now() - start)"
   ]
  },
  {
   "cell_type": "code",
   "execution_count": 0,
   "metadata": {
    "colab": {
     "autoexec": {
      "startup": false,
      "wait_interval": 0
     }
    },
    "colab_type": "code",
    "id": "aSjsxooN_OyV",
    "outputId": "da241f4d-88c8-4e1a-cb09-18bd18179bef"
   },
   "outputs": [
    {
     "name": "stdout",
     "output_type": "stream",
     "text": [
      " AVerage ratings\n",
      "------------------------------\n",
      "day_of_week\n",
      "Friday       3.585274\n",
      "Monday       3.577250\n",
      "Saturday     3.591791\n",
      "Sunday       3.594144\n",
      "Thursday     3.582463\n",
      "Tuesday      3.574438\n",
      "Wednesday    3.583751\n",
      "Name: rating, dtype: float64\n",
      "\n",
      "\n"
     ]
    }
   ],
   "source": [
    "avg_week_df = train_df.groupby(by=['day_of_week'])['rating'].mean()\n",
    "print(\" AVerage ratings\")\n",
    "print(\"-\"*30)\n",
    "print(avg_week_df)\n",
    "print(\"\\n\")"
   ]
  },
  {
   "cell_type": "markdown",
   "metadata": {
    "colab_type": "text",
    "id": "r9hbMh7B_Oyd"
   },
   "source": [
    "### 3.3.6 Creating sparse matrix from data frame "
   ]
  },
  {
   "cell_type": "markdown",
   "metadata": {
    "colab_type": "text",
    "id": "PNJi8F8c_Oyf"
   },
   "source": [
    "\n",
    "<table>\n",
    "<tr>\n",
    "<td>\n",
    "![Kernel & front-end diagram](Images\\data_c.jpg)\n",
    "</td>\n",
    "<td>\n",
    "![Kernel & front-end diagram](Images\\arrow.jpg)\n",
    "</td>\n",
    "<td>\n",
    "![Kernel & front-end diagram](Images\\data_sparse_c.jpg)\n",
    "</td>\n",
    "</tr>\n",
    "</table>"
   ]
  },
  {
   "cell_type": "markdown",
   "metadata": {
    "colab_type": "text",
    "id": "MFlIzrS6_Oyf"
   },
   "source": [
    "#### 3.3.6.1 Creating sparse matrix from train data frame "
   ]
  },
  {
   "cell_type": "code",
   "execution_count": 21,
   "metadata": {
    "colab": {
     "autoexec": {
      "startup": false,
      "wait_interval": 0
     },
     "base_uri": "https://localhost:8080/",
     "height": 74
    },
    "colab_type": "code",
    "executionInfo": {
     "elapsed": 5784,
     "status": "ok",
     "timestamp": 1532027699338,
     "user": {
      "displayName": "vishnu gopireddy",
      "photoUrl": "https://lh3.googleusercontent.com/a/default-user=s128",
      "userId": "103025835711196897778"
     },
     "user_tz": -330
    },
    "id": "qGq8GTXj_Oyf",
    "outputId": "9461dc1c-caee-4154-be85-bc929fdfd6bb"
   },
   "outputs": [
    {
     "name": "stdout",
     "output_type": "stream",
     "text": [
      "It is present in your pwd, getting it from disk....\n",
      "DONE..\n",
      "0:00:04.408721\n"
     ]
    }
   ],
   "source": [
    "start = datetime.now()\n",
    "if os.path.isfile('drive/ai/data_folder/train_sparse_matrix.npz'):\n",
    "    print(\"It is present in your pwd, getting it from disk....\")\n",
    "    # just get it from the disk instead of computing it\n",
    "    train_sparse_matrix = sparse.load_npz('train_sparse_matrix.npz')\n",
    "    print(\"DONE..\")\n",
    "else: \n",
    "    print(\"We are creating sparse_matrix from the dataframe..\")\n",
    "    # create sparse_matrix and store it for after usage.\n",
    "    # csr_matrix(data_values, (row_index, col_index), shape_of_matrix)\n",
    "    # It should be in such a way that, MATRIX[row, col] = data\n",
    "    train_sparse_matrix = sparse.csr_matrix((train_df.rating.values, (train_df.user.values,\n",
    "                                               train_df.movie.values)),)\n",
    "    \n",
    "    print('Done. It\\'s shape is : (user, movie) : ',train_sparse_matrix.shape)\n",
    "    print('Saving it into disk for furthur usage..')\n",
    "    # save it into disk\n",
    "    sparse.save_npz(\"train_sparse_matrix.npz\", train_sparse_matrix)\n",
    "    print('Done..\\n')\n",
    "\n",
    "print(datetime.now() - start)"
   ]
  },
  {
   "cell_type": "markdown",
   "metadata": {
    "colab_type": "text",
    "id": "_NUCF-XD_Oyi"
   },
   "source": [
    "<p><b>The Sparsity of Train Sparse Matrix</b></p>"
   ]
  },
  {
   "cell_type": "code",
   "execution_count": 27,
   "metadata": {
    "colab": {
     "autoexec": {
      "startup": false,
      "wait_interval": 0
     },
     "base_uri": "https://localhost:8080/",
     "height": 34
    },
    "colab_type": "code",
    "executionInfo": {
     "elapsed": 1577,
     "status": "ok",
     "timestamp": 1532000543445,
     "user": {
      "displayName": "Vishnu vardhan",
      "photoUrl": "//lh3.googleusercontent.com/-aWCh36gokTE/AAAAAAAAAAI/AAAAAAAAEho/sz27AYB6wCw/s50-c-k-no/photo.jpg",
      "userId": "115344496305613697268"
     },
     "user_tz": -330
    },
    "id": "8bietyN-_Oyi",
    "outputId": "11b1a568-2715-4863-b7a6-c89a1a50f398"
   },
   "outputs": [
    {
     "name": "stdout",
     "output_type": "stream",
     "text": [
      "Sparsity Of Train matrix : 99.8292709259195 % \n"
     ]
    }
   ],
   "source": [
    "us,mv = train_sparse_matrix.shape\n",
    "elem = train_sparse_matrix.count_nonzero()\n",
    "\n",
    "print(\"Sparsity Of Train matrix : {} % \".format(  (1-(elem/(us*mv))) * 100) )"
   ]
  },
  {
   "cell_type": "markdown",
   "metadata": {
    "colab_type": "text",
    "id": "QdcSKL6e_Oyl"
   },
   "source": [
    "#### 3.3.6.2 Creating sparse matrix from test data frame "
   ]
  },
  {
   "cell_type": "code",
   "execution_count": 6,
   "metadata": {
    "colab": {
     "autoexec": {
      "startup": false,
      "wait_interval": 0
     },
     "base_uri": "https://localhost:8080/",
     "height": 74
    },
    "colab_type": "code",
    "executionInfo": {
     "elapsed": 2447,
     "status": "ok",
     "timestamp": 1532023823873,
     "user": {
      "displayName": "vishnu gopireddy",
      "photoUrl": "https://lh3.googleusercontent.com/a/default-user=s128",
      "userId": "103025835711196897778"
     },
     "user_tz": -330
    },
    "id": "L6fv-IGX_Oyn",
    "outputId": "4624afe2-1e91-40a3-eb0c-bf056459509d"
   },
   "outputs": [
    {
     "name": "stdout",
     "output_type": "stream",
     "text": [
      "It is present in your pwd, getting it from disk....\n",
      "DONE..\n",
      "0:00:01.130436\n"
     ]
    }
   ],
   "source": [
    "start = datetime.now()\n",
    "if os.path.isfile('drive/ai/data_folder/test_sparse_matrix.npz'):\n",
    "    print(\"It is present in your pwd, getting it from disk....\")\n",
    "    # just get it from the disk instead of computing it\n",
    "    test_sparse_matrix = sparse.load_npz('test_sparse_matrix.npz')\n",
    "    print(\"DONE..\")\n",
    "else: \n",
    "    print(\"We are creating sparse_matrix from the dataframe..\")\n",
    "    # create sparse_matrix and store it for after usage.\n",
    "    # csr_matrix(data_values, (row_index, col_index), shape_of_matrix)\n",
    "    # It should be in such a way that, MATRIX[row, col] = data\n",
    "    test_sparse_matrix = sparse.csr_matrix((test_df.rating.values, (test_df.user.values,\n",
    "                                               test_df.movie.values)))\n",
    "    \n",
    "    print('Done. It\\'s shape is : (user, movie) : ',test_sparse_matrix.shape)\n",
    "    print('Saving it into disk for furthur usage..')\n",
    "    # save it into disk\n",
    "    sparse.save_npz(\"test_sparse_matrix.npz\", test_sparse_matrix)\n",
    "    print('Done..\\n')\n",
    "    \n",
    "print(datetime.now() - start)"
   ]
  },
  {
   "cell_type": "markdown",
   "metadata": {
    "colab_type": "text",
    "id": "jckSH2uq_Oyr"
   },
   "source": [
    "<p><b>The Sparsity of Test data Matrix</b></p>"
   ]
  },
  {
   "cell_type": "code",
   "execution_count": 26,
   "metadata": {
    "colab": {
     "autoexec": {
      "startup": false,
      "wait_interval": 0
     },
     "base_uri": "https://localhost:8080/",
     "height": 36
    },
    "colab_type": "code",
    "executionInfo": {
     "elapsed": 1234,
     "status": "ok",
     "timestamp": 1532018941301,
     "user": {
      "displayName": "vishnu gopireddy",
      "photoUrl": "https://lh3.googleusercontent.com/a/default-user=s128",
      "userId": "103025835711196897778"
     },
     "user_tz": -330
    },
    "id": "Gd0NRBYx_Oyr",
    "outputId": "e1ab5cda-7692-4c10-ff5c-34e0901c85d9"
   },
   "outputs": [
    {
     "name": "stdout",
     "output_type": "stream",
     "text": [
      "Sparsity Of Test matrix : 99.95731772988694 % \n"
     ]
    }
   ],
   "source": [
    "us,mv = test_sparse_matrix.shape\n",
    "elem = test_sparse_matrix.count_nonzero()\n",
    "\n",
    "print(\"Sparsity Of Test matrix : {} % \".format(  (1-(elem/(us*mv))) * 100) )"
   ]
  },
  {
   "cell_type": "markdown",
   "metadata": {
    "colab_type": "text",
    "id": "1lvDnCGg_Oyv"
   },
   "source": [
    "### 3.3.7 Finding Global average of all movie ratings, Average rating per user, and Average rating per movie"
   ]
  },
  {
   "cell_type": "code",
   "execution_count": 0,
   "metadata": {
    "colab": {
     "autoexec": {
      "startup": false,
      "wait_interval": 0
     }
    },
    "colab_type": "code",
    "id": "qxPqfpM2_Oyx"
   },
   "outputs": [],
   "source": [
    "# get the user averages in dictionary (key: user_id/movie_id, value: avg rating)\n",
    "\n",
    "def get_average_ratings(sparse_matrix, of_users):\n",
    "    \n",
    "    # average ratings of user/axes\n",
    "    ax = 1 if of_users else 0 # 1 - User axes,0 - Movie axes\n",
    "\n",
    "    # \".A1\" is for converting Column_Matrix to 1-D numpy array \n",
    "    sum_of_ratings = sparse_matrix.sum(axis=ax).A1\n",
    "    # Boolean matrix of ratings ( whether a user rated that movie or not)\n",
    "    is_rated = sparse_matrix!=0\n",
    "    # no of ratings that each user OR movie..\n",
    "    no_of_ratings = is_rated.sum(axis=ax).A1\n",
    "    \n",
    "    # max_user  and max_movie ids in sparse matrix \n",
    "    u,m = sparse_matrix.shape\n",
    "    # creae a dictonary of users and their average ratigns..\n",
    "    average_ratings = { i : sum_of_ratings[i]/no_of_ratings[i]\n",
    "                                 for i in range(u if of_users else m) \n",
    "                                    if no_of_ratings[i] !=0}\n",
    "\n",
    "    # return that dictionary of average ratings\n",
    "    return average_ratings"
   ]
  },
  {
   "cell_type": "markdown",
   "metadata": {
    "colab_type": "text",
    "id": "PHtMKdHW_Oyz"
   },
   "source": [
    "#### 3.3.7.1 finding global average of all movie ratings "
   ]
  },
  {
   "cell_type": "code",
   "execution_count": 21,
   "metadata": {
    "colab": {
     "autoexec": {
      "startup": false,
      "wait_interval": 0
     },
     "base_uri": "https://localhost:8080/",
     "height": 36
    },
    "colab_type": "code",
    "executionInfo": {
     "elapsed": 1295,
     "status": "ok",
     "timestamp": 1532018797798,
     "user": {
      "displayName": "vishnu gopireddy",
      "photoUrl": "https://lh3.googleusercontent.com/a/default-user=s128",
      "userId": "103025835711196897778"
     },
     "user_tz": -330
    },
    "id": "p6n7Zz1h_Oy0",
    "outputId": "c739a852-9c5a-46c2-f73f-fa0a94347e85"
   },
   "outputs": [
    {
     "data": {
      "text/plain": [
       "{'global': 3.582890686321557}"
      ]
     },
     "execution_count": 21,
     "metadata": {
      "tags": []
     },
     "output_type": "execute_result"
    }
   ],
   "source": [
    "train_averages = dict()\n",
    "# get the global average of ratings in our train set.\n",
    "train_global_average = train_sparse_matrix.sum()/train_sparse_matrix.count_nonzero()\n",
    "train_averages['global'] = train_global_average\n",
    "train_averages"
   ]
  },
  {
   "cell_type": "markdown",
   "metadata": {
    "colab_type": "text",
    "id": "EtZUIdCx_Oy3"
   },
   "source": [
    "#### 3.3.7.2 finding average rating per user"
   ]
  },
  {
   "cell_type": "code",
   "execution_count": 22,
   "metadata": {
    "colab": {
     "autoexec": {
      "startup": false,
      "wait_interval": 0
     },
     "base_uri": "https://localhost:8080/",
     "height": 55
    },
    "colab_type": "code",
    "executionInfo": {
     "elapsed": 2329,
     "status": "ok",
     "timestamp": 1532018807069,
     "user": {
      "displayName": "vishnu gopireddy",
      "photoUrl": "https://lh3.googleusercontent.com/a/default-user=s128",
      "userId": "103025835711196897778"
     },
     "user_tz": -330
    },
    "id": "W5D_O1zY_Oy4",
    "outputId": "270859bd-bcc9-474a-931f-3563492c8a41"
   },
   "outputs": [
    {
     "name": "stdout",
     "output_type": "stream",
     "text": [
      "\n",
      "Average rating of user 10 : 3.3781094527363185\n"
     ]
    }
   ],
   "source": [
    "train_averages['user'] = get_average_ratings(train_sparse_matrix, of_users=True)\n",
    "print('\\nAverage rating of user 10 :',train_averages['user'][10])"
   ]
  },
  {
   "cell_type": "markdown",
   "metadata": {
    "colab_type": "text",
    "id": "nai3r1Bx_Oy6"
   },
   "source": [
    "#### 3.3.7.3 finding average rating per movie"
   ]
  },
  {
   "cell_type": "code",
   "execution_count": 23,
   "metadata": {
    "colab": {
     "autoexec": {
      "startup": false,
      "wait_interval": 0
     },
     "base_uri": "https://localhost:8080/",
     "height": 55
    },
    "colab_type": "code",
    "executionInfo": {
     "elapsed": 1601,
     "status": "ok",
     "timestamp": 1532018828627,
     "user": {
      "displayName": "vishnu gopireddy",
      "photoUrl": "https://lh3.googleusercontent.com/a/default-user=s128",
      "userId": "103025835711196897778"
     },
     "user_tz": -330
    },
    "id": "cbqW7AoS_Oy7",
    "outputId": "1d5eae2a-3317-4979-bfee-d2677db2ccb2"
   },
   "outputs": [
    {
     "name": "stdout",
     "output_type": "stream",
     "text": [
      "\n",
      " AVerage rating of movie 15 : 3.3038461538461537\n"
     ]
    }
   ],
   "source": [
    "train_averages['movie'] =  get_average_ratings(train_sparse_matrix, of_users=False)\n",
    "print('\\n AVerage rating of movie 15 :',train_averages['movie'][15])"
   ]
  },
  {
   "cell_type": "markdown",
   "metadata": {
    "colab_type": "text",
    "id": "tQBZzGE9_Oy9"
   },
   "source": [
    "#### 3.3.7.4 PDF's & CDF's of Avg.Ratings of Users & Movies (In Train Data)"
   ]
  },
  {
   "cell_type": "code",
   "execution_count": 25,
   "metadata": {
    "colab": {
     "autoexec": {
      "startup": false,
      "wait_interval": 0
     },
     "base_uri": "https://localhost:8080/",
     "height": 405
    },
    "colab_type": "code",
    "executionInfo": {
     "elapsed": 36331,
     "status": "ok",
     "timestamp": 1532018925623,
     "user": {
      "displayName": "vishnu gopireddy",
      "photoUrl": "https://lh3.googleusercontent.com/a/default-user=s128",
      "userId": "103025835711196897778"
     },
     "user_tz": -330
    },
    "id": "3nnoqo1N_Oy-",
    "outputId": "e54c97bf-d291-4c04-a824-e34c3fba57b1"
   },
   "outputs": [
    {
     "data": {
      "image/png": "[encoded data removed]",
      "text/plain": [
       "<matplotlib.figure.Figure at 0x7ffa110985c0>"
      ]
     },
     "metadata": {
      "tags": []
     },
     "output_type": "display_data"
    },
    {
     "name": "stdout",
     "output_type": "stream",
     "text": [
      "0:00:35.010307\n"
     ]
    }
   ],
   "source": [
    "start = datetime.now()\n",
    "# draw pdfs for average rating per user and average\n",
    "fig, (ax1, ax2) = plt.subplots(nrows=1, ncols=2, figsize=plt.figaspect(.5))\n",
    "fig.suptitle('Avg Ratings per User and per Movie', fontsize=15)\n",
    "\n",
    "ax1.set_title('Users-Avg-Ratings')\n",
    "# get the list of average user ratings from the averages dictionary..\n",
    "user_averages = [rat for rat in train_averages['user'].values()]\n",
    "sns.distplot(user_averages, ax=ax1, hist=False, \n",
    "             kde_kws=dict(cumulative=True), label='Cdf')\n",
    "sns.distplot(user_averages, ax=ax1, hist=False,label='Pdf')\n",
    "\n",
    "ax2.set_title('Movies-Avg-Rating')\n",
    "# get the list of movie_average_ratings from the dictionary..\n",
    "movie_averages = [rat for rat in train_averages['movie'].values()]\n",
    "sns.distplot(movie_averages, ax=ax2, hist=False, \n",
    "             kde_kws=dict(cumulative=True), label='Cdf')\n",
    "sns.distplot(movie_averages, ax=ax2, hist=False, label='Pdf')\n",
    "\n",
    "plt.show()\n",
    "print(datetime.now() - start)"
   ]
  },
  {
   "cell_type": "markdown",
   "metadata": {
    "colab_type": "text",
    "id": "wIQoG0bc_OzE"
   },
   "source": [
    "### 3.3.8 Cold Start problem "
   ]
  },
  {
   "cell_type": "markdown",
   "metadata": {
    "colab_type": "text",
    "id": "Q7qTgk0P_OzF"
   },
   "source": [
    "#### 3.3.8.1 Cold Start problem with Users"
   ]
  },
  {
   "cell_type": "code",
   "execution_count": 24,
   "metadata": {
    "colab": {
     "autoexec": {
      "startup": false,
      "wait_interval": 0
     },
     "base_uri": "https://localhost:8080/",
     "height": 149
    },
    "colab_type": "code",
    "executionInfo": {
     "elapsed": 10317,
     "status": "ok",
     "timestamp": 1532018855465,
     "user": {
      "displayName": "vishnu gopireddy",
      "photoUrl": "https://lh3.googleusercontent.com/a/default-user=s128",
      "userId": "103025835711196897778"
     },
     "user_tz": -330
    },
    "id": "ZZfckAGM_OzG",
    "outputId": "8f91b45a-822f-436e-98dc-16a5dbcd1fcb"
   },
   "outputs": [
    {
     "name": "stdout",
     "output_type": "stream",
     "text": [
      "\n",
      "Total number of Users  : 480189\n",
      "\n",
      "Number of Users in Train data : 405041\n",
      "\n",
      "No of Users that didn't appear in train data: 75148(15.65 %) \n",
      " \n"
     ]
    }
   ],
   "source": [
    "total_users = len(np.unique(df.user))\n",
    "users_train = len(train_averages['user'])\n",
    "new_users = total_users - users_train\n",
    "\n",
    "print('\\nTotal number of Users  :', total_users)\n",
    "print('\\nNumber of Users in Train data :', users_train)\n",
    "print(\"\\nNo of Users that didn't appear in train data: {}({} %) \\n \".format(new_users,\n",
    "                                                                        np.round((new_users/total_users)*100, 2)))"
   ]
  },
  {
   "cell_type": "markdown",
   "metadata": {
    "colab_type": "text",
    "id": "zzL9vwN6_OzJ"
   },
   "source": [
    "> We might have to handle __new users__ ( ___75148___ ) who didn't appear in train data."
   ]
  },
  {
   "cell_type": "markdown",
   "metadata": {
    "colab_type": "text",
    "id": "2KbnD7Z1_OzL"
   },
   "source": [
    "#### 3.3.8.2 Cold Start problem with Movies"
   ]
  },
  {
   "cell_type": "code",
   "execution_count": 0,
   "metadata": {
    "colab": {
     "autoexec": {
      "startup": false,
      "wait_interval": 0
     }
    },
    "colab_type": "code",
    "id": "Pw2pRNy7_OzM",
    "outputId": "979fba8a-d86e-4555-8bb0-34244840a89b"
   },
   "outputs": [
    {
     "name": "stdout",
     "output_type": "stream",
     "text": [
      "\n",
      "Total number of Movies  : 17770\n",
      "\n",
      "Number of Users in Train data : 17424\n",
      "\n",
      "No of Movies that didn't appear in train data: 346(1.95 %) \n",
      " \n"
     ]
    }
   ],
   "source": [
    "total_movies = len(np.unique(df.movie))\n",
    "movies_train = len(train_averages['movie'])\n",
    "new_movies = total_movies - movies_train\n",
    "\n",
    "print('\\nTotal number of Movies  :', total_movies)\n",
    "print('\\nNumber of Users in Train data :', movies_train)\n",
    "print(\"\\nNo of Movies that didn't appear in train data: {}({} %) \\n \".format(new_movies,\n",
    "                                                                        np.round((new_movies/total_movies)*100, 2)))"
   ]
  },
  {
   "cell_type": "markdown",
   "metadata": {
    "colab_type": "text",
    "id": "ibP3taS1_OzO"
   },
   "source": [
    "> We might have to handle __346 movies__ (small comparatively) in test data"
   ]
  },
  {
   "cell_type": "markdown",
   "metadata": {
    "colab_type": "text",
    "id": "xdpS23Z5_OzO"
   },
   "source": [
    "## 3.4 Computing Similarity matrices "
   ]
  },
  {
   "cell_type": "markdown",
   "metadata": {
    "colab_type": "text",
    "id": "lNHOJBt0zLDL"
   },
   "source": [
    "###  3.4.1 Computing User-User Similarity matrix "
   ]
  },
  {
   "cell_type": "markdown",
   "metadata": {
    "colab_type": "text",
    "id": "3ZYu2VZOzLDL"
   },
   "source": [
    "1. Calculating User User Similarity_Matrix is __not very easy__(_unless you have huge Computing Power and lots of time_) because of number of. usersbeing lare.\n",
    "\n",
    "    * You can try if you want to. Your system could crash or the program stops with **Memory Error**\n"
   ]
  },
  {
   "cell_type": "markdown",
   "metadata": {
    "colab_type": "text",
    "id": "ZSdJC6apzLD0"
   },
   "source": [
    "__Is there any other way to compute user user similarity..??__"
   ]
  },
  {
   "cell_type": "markdown",
   "metadata": {
    "colab_type": "text",
    "id": "wk2-0Y4wzLD1"
   },
   "source": [
    "-An alternative is to compute similar users for a particular user,  whenenver required (**ie., Run time**)\n",
    "    - We maintain a binary Vector for users, which tells us whether we already computed or not..\n",
    "    - ***If not*** : \n",
    "        - Compute top (let's just say, 1000) most similar users for this given user, and add this to our datastructure, so that we can just access it(similar users) without recomputing it again.\n",
    "        - \n",
    "    - ***If It is already Computed***:\n",
    "        - Just get it directly from our datastructure, which has that information.\n",
    "        - In production time, We might have to recompute similarities, if it is computed a long time ago. Because user preferences changes over time. If we could maintain some kind of Timer, which when expires, we have to update it ( recompute it ). \n",
    "        - \n",
    "    - ***Which datastructure to use:***\n",
    "        - It is purely implementation dependant. \n",
    "        - One simple method is to maintain a **Dictionary Of Dictionaries**.\n",
    "            - \n",
    "            - **key    :** _userid_ \n",
    "            - __value__: _Again a dictionary_\n",
    "                - __key__  : _Similar User_\n",
    "                - __value__: _Similarity Value_"
   ]
  },
  {
   "cell_type": "markdown",
   "metadata": {
    "colab_type": "text",
    "id": "8wsoeI7PzLD1"
   },
   "source": [
    "### 3.4.2 Computing Movie-Movie Similarity matrix "
   ]
  },
  {
   "cell_type": "code",
   "execution_count": 0,
   "metadata": {
    "colab": {
     "autoexec": {
      "startup": false,
      "wait_interval": 0
     }
    },
    "colab_type": "code",
    "id": "kpS6uwBei1P0"
   },
   "outputs": [],
   "source": [
    "from sklearn.metrics.pairwise import cosine_similarity\n",
    "\n",
    "\n",
    "def compute_user_similarity(sparse_matrix, compute_for_few=False, top = 100, verbose=False, verb_for_n_rows = 20,\n",
    "                            draw_time_taken=True):\n",
    "    no_of_users, _ = sparse_matrix.shape\n",
    "    # get the indices of  non zero rows(users) from our sparse matrix\n",
    "    row_ind, col_ind = sparse_matrix.nonzero()\n",
    "    row_ind = sorted(set(row_ind)) # we don't have to\n",
    "    time_taken = list() #  time taken for finding similar users for an user..\n",
    "    \n",
    "    # we create rows, cols, and data lists.., which can be used to create sparse matrices\n",
    "    rows, cols, data = list(), list(), list()\n",
    "    if verbose: print(\"Computing top\",top,\"similarities for each user..\")\n",
    "    \n",
    "    start = datetime.now()\n",
    "    temp = 0\n",
    "    \n",
    "    for row in row_ind[:top] if compute_for_few else row_ind:\n",
    "        temp = temp+1\n",
    "        prev = datetime.now()\n",
    "        \n",
    "        # get the similarity row for this user with all other users\n",
    "        sim = cosine_similarity(sparse_matrix.getrow(row), sparse_matrix).ravel()\n",
    "        # We will get only the top ''top'' most similar users and ignore rest of them..\n",
    "        top_sim_ind = sim.argsort()[-top:]\n",
    "        top_sim_val = sim[top_sim_ind]\n",
    "        \n",
    "        # add them to our rows, cols and data\n",
    "        rows.extend([row]*top)\n",
    "        cols.extend(top_sim_ind)\n",
    "        data.extend(top_sim_val)\n",
    "        time_taken.append(datetime.now().timestamp() - prev.timestamp())\n",
    "        if verbose:\n",
    "            if temp%verb_for_n_rows == 0:\n",
    "                print(\"computing done for {} users [  time elapsed : {}  ]\"\n",
    "                      .format(temp, datetime.now()-start))\n",
    "            \n",
    "        \n",
    "    # lets create sparse matrix out of these and return it\n",
    "    if verbose: print('Creating Sparse matrix from the computed similarities')\n",
    "    #return rows, cols, data\n",
    "    \n",
    "    if draw_time_taken:\n",
    "        plt.plot(time_taken, label = 'time taken for each user')\n",
    "        plt.plot(np.cumsum(time_taken), label='Total time')\n",
    "        plt.legend(loc='best')\n",
    "        plt.xlabel('User')\n",
    "        plt.ylabel('Time (seconds)')\n",
    "        plt.show()\n",
    "        \n",
    "    return sparse.csr_matrix((data, (rows, cols)), shape=(no_of_users, no_of_users)), time_taken      "
   ]
  },
  {
   "cell_type": "code",
   "execution_count": 5,
   "metadata": {
    "colab": {
     "autoexec": {
      "startup": false,
      "wait_interval": 0
     },
     "base_uri": "https://localhost:8080/",
     "height": 130
    },
    "colab_type": "code",
    "executionInfo": {
     "elapsed": 279191,
     "status": "ok",
     "timestamp": 1532027285521,
     "user": {
      "displayName": "vishnu gopireddy",
      "photoUrl": "https://lh3.googleusercontent.com/a/default-user=s128",
      "userId": "103025835711196897778"
     },
     "user_tz": -330
    },
    "id": "ZqV9D7bszLD1",
    "outputId": "a48a908f-66e8-4b49-cb74-87774eb474c8"
   },
   "outputs": [
    {
     "name": "stdout",
     "output_type": "stream",
     "text": [
      "It seems you don't have that file. Computing movie_movie similarity...\n",
      "Done..\n",
      "Saving it to disk without the need of re-computing it again.. \n",
      "Done..\n",
      "It's a  (17771, 17771)  dimensional matrix\n",
      "0:04:37.442831\n"
     ]
    }
   ],
   "source": [
    "start = datetime.now()\n",
    "if not os.path.isfile('drive/ai/m_m_sim_sparse.npz'):\n",
    "    print(\"It seems you don't have that file. Computing movie_movie similarity...\")\n",
    "    start = datetime.now()\n",
    "    m_m_sim_sparse = cosine_similarity(X=train_sparse_matrix.T, dense_output=False)\n",
    "    print(\"Done..\")\n",
    "    # store this sparse matrix in disk before using it. For future purposes.\n",
    "    print(\"Saving it to disk without the need of re-computing it again.. \")\n",
    "    #sparse.save_npz(\"m_m_sim_sparse.npz\", m_m_sim_sparse)\n",
    "    print(\"Done..\")\n",
    "else:\n",
    "    print(\"It is there, We will get it.\")\n",
    "    m_m_sim_sparse = sparse.load_npz('drive/ai/data_folder/m_m_sim_sparse.npz')\n",
    "    print(\"Done ...\")\n",
    "\n",
    "print(\"It's a \",m_m_sim_sparse.shape,\" dimensional matrix\")\n",
    "\n",
    "print(datetime.now() - start)"
   ]
  },
  {
   "cell_type": "code",
   "execution_count": 10,
   "metadata": {
    "colab": {
     "autoexec": {
      "startup": false,
      "wait_interval": 0
     },
     "base_uri": "https://localhost:8080/",
     "height": 36
    },
    "colab_type": "code",
    "executionInfo": {
     "elapsed": 1841,
     "status": "ok",
     "timestamp": 1532027369504,
     "user": {
      "displayName": "vishnu gopireddy",
      "photoUrl": "https://lh3.googleusercontent.com/a/default-user=s128",
      "userId": "103025835711196897778"
     },
     "user_tz": -330
    },
    "id": "5TGA-q80zLD7",
    "outputId": "242aa1b0-76df-4b12-d6dc-4d65b241fcf7"
   },
   "outputs": [
    {
     "data": {
      "text/plain": [
       "(17771, 17771)"
      ]
     },
     "execution_count": 10,
     "metadata": {
      "tags": []
     },
     "output_type": "execute_result"
    }
   ],
   "source": [
    "m_m_sim_sparse.shape"
   ]
  },
  {
   "cell_type": "markdown",
   "metadata": {
    "colab_type": "text",
    "id": "UK64GF-tzLD8"
   },
   "source": [
    "- Even though we have similarity measure of each movie, with all other movies, We generally don't care much about least similar movies.\n",
    "\n",
    "\n",
    "- Most of the times, only top_xxx similar items matters. It may be 10 or 100.\n",
    "\n",
    "\n",
    "- We take only those top similar movie ratings and store them  in a saperate dictionary."
   ]
  },
  {
   "cell_type": "code",
   "execution_count": 0,
   "metadata": {
    "colab": {
     "autoexec": {
      "startup": false,
      "wait_interval": 0
     }
    },
    "colab_type": "code",
    "id": "8VP6jVfPzLD-"
   },
   "outputs": [],
   "source": [
    "movie_ids = np.unique(m_m_sim_sparse.nonzero()[1])"
   ]
  },
  {
   "cell_type": "code",
   "execution_count": 16,
   "metadata": {
    "colab": {
     "autoexec": {
      "startup": false,
      "wait_interval": 0
     },
     "base_uri": "https://localhost:8080/",
     "height": 262
    },
    "colab_type": "code",
    "executionInfo": {
     "elapsed": 35011,
     "status": "ok",
     "timestamp": 1532027618183,
     "user": {
      "displayName": "vishnu gopireddy",
      "photoUrl": "https://lh3.googleusercontent.com/a/default-user=s128",
      "userId": "103025835711196897778"
     },
     "user_tz": -330
    },
    "id": "Vk0PoRinzLEB",
    "outputId": "149f1038-29e5-482b-9c87-937857d5099c"
   },
   "outputs": [
    {
     "name": "stdout",
     "output_type": "stream",
     "text": [
      "0:00:33.631150\n"
     ]
    },
    {
     "data": {
      "text/plain": [
       "array([13003,  5995,  1282, 13832, 10635,  7626, 11423, 14121,  3981,\n",
       "       17344, 13469, 13737, 13776, 17549,  9763, 12240,  5224,  4671,\n",
       "       13956, 14181, 16907, 11680,  2404, 14376,  5423,  1917, 13674,\n",
       "         352, 14009,  3623,  1446,  3378, 11101,  3221,   112,  3591,\n",
       "        9276, 11124, 11894, 12454,  5655,  6421,  6454,  3493, 13812,\n",
       "          11,  1292,  4363,  9094, 14830,  9048, 16359, 10786,  4863,\n",
       "       17754, 11428, 14645, 17457,  4581, 11655, 10391, 11660, 15404,\n",
       "       17137,    52,     6, 17111,  3854,  9372,  5372,  4559, 12110,\n",
       "        9704,  4244,   201,  2502, 13060,  6950, 15747,  9983, 11180,\n",
       "        7422,  8524,  3533, 10651, 10472,  7248, 10096,  6731,  6905,\n",
       "         534,  2679, 13757, 16503,  7567,  1235,  5911, 14304,  5194,\n",
       "        6551])"
      ]
     },
     "execution_count": 16,
     "metadata": {
      "tags": []
     },
     "output_type": "execute_result"
    }
   ],
   "source": [
    "start = datetime.now()\n",
    "similar_movies = dict()\n",
    "for movie in movie_ids:\n",
    "    # get the top similar movies and store them in the dictionary\n",
    "    sim_movies = m_m_sim_sparse[movie].toarray().ravel().argsort()[::-1][1:]\n",
    "    similar_movies[movie] = sim_movies[:100]\n",
    "print(datetime.now() - start)\n",
    "\n",
    "# just testing similar movies for movie_15\n",
    "similar_movies[10]"
   ]
  },
  {
   "cell_type": "markdown",
   "metadata": {
    "colab_type": "text",
    "id": "yJPBZRdFzLEF"
   },
   "source": [
    "### 3.4.3 Finding most similar movies using similarity matrix "
   ]
  },
  {
   "cell_type": "markdown",
   "metadata": {
    "colab_type": "text",
    "id": "l39K34bKzLEG"
   },
   "source": [
    "__ Does Similarity really works as the way we expected...? __ <br>\n",
    "_Let's pick some random movie and check for its similar movies...._"
   ]
  },
  {
   "cell_type": "code",
   "execution_count": 18,
   "metadata": {
    "colab": {
     "autoexec": {
      "startup": false,
      "wait_interval": 0
     },
     "base_uri": "https://localhost:8080/",
     "height": 294
    },
    "colab_type": "code",
    "executionInfo": {
     "elapsed": 4436,
     "status": "ok",
     "timestamp": 1532027642757,
     "user": {
      "displayName": "vishnu gopireddy",
      "photoUrl": "https://lh3.googleusercontent.com/a/default-user=s128",
      "userId": "103025835711196897778"
     },
     "user_tz": -330
    },
    "id": "5ojSXybyzLEH",
    "outputId": "03ec057c-49b4-4046-ad4a-beacbf1d0ae6"
   },
   "outputs": [
    {
     "name": "stdout",
     "output_type": "stream",
     "text": [
      "Tokenization took: 6.12 ms\n",
      "Type conversion took: 12.05 ms\n",
      "Parser memory cleanup took: 0.01 ms\n"
     ]
    },
    {
     "data": {
      "text/html": [
       "<div>\n",
       "<style scoped>\n",
       "    .dataframe tbody tr th:only-of-type {\n",
       "        vertical-align: middle;\n",
       "    }\n",
       "\n",
       "    .dataframe tbody tr th {\n",
       "        vertical-align: top;\n",
       "    }\n",
       "\n",
       "    .dataframe thead th {\n",
       "        text-align: right;\n",
       "    }\n",
       "</style>\n",
       "<table border=\"1\" class=\"dataframe\">\n",
       "  <thead>\n",
       "    <tr style=\"text-align: right;\">\n",
       "      <th></th>\n",
       "      <th>year_of_release</th>\n",
       "      <th>title</th>\n",
       "    </tr>\n",
       "    <tr>\n",
       "      <th>movie_id</th>\n",
       "      <th></th>\n",
       "      <th></th>\n",
       "    </tr>\n",
       "  </thead>\n",
       "  <tbody>\n",
       "    <tr>\n",
       "      <th>1</th>\n",
       "      <td>2003.0</td>\n",
       "      <td>Dinosaur Planet</td>\n",
       "    </tr>\n",
       "    <tr>\n",
       "      <th>2</th>\n",
       "      <td>2004.0</td>\n",
       "      <td>Isle of Man TT 2004 Review</td>\n",
       "    </tr>\n",
       "    <tr>\n",
       "      <th>3</th>\n",
       "      <td>1997.0</td>\n",
       "      <td>Character</td>\n",
       "    </tr>\n",
       "    <tr>\n",
       "      <th>4</th>\n",
       "      <td>1994.0</td>\n",
       "      <td>Paula Abdul's Get Up &amp; Dance</td>\n",
       "    </tr>\n",
       "    <tr>\n",
       "      <th>5</th>\n",
       "      <td>2004.0</td>\n",
       "      <td>The Rise and Fall of ECW</td>\n",
       "    </tr>\n",
       "  </tbody>\n",
       "</table>\n",
       "</div>"
      ],
      "text/plain": [
       "          year_of_release                         title\n",
       "movie_id                                               \n",
       "1                  2003.0               Dinosaur Planet\n",
       "2                  2004.0    Isle of Man TT 2004 Review\n",
       "3                  1997.0                     Character\n",
       "4                  1994.0  Paula Abdul's Get Up & Dance\n",
       "5                  2004.0      The Rise and Fall of ECW"
      ]
     },
     "execution_count": 18,
     "metadata": {
      "tags": []
     },
     "output_type": "execute_result"
    }
   ],
   "source": [
    "# First Let's load the movie details into soe dataframe..\n",
    "# movie details are in 'netflix/movie_titles.csv'\n",
    "\n",
    "movie_titles = pd.read_csv(\"drive/ai/data_folder/movie_titles.csv\", sep=',', header = None,\n",
    "                           names=['movie_id', 'year_of_release', 'title'], verbose=True,\n",
    "                      index_col = 'movie_id', encoding = \"ISO-8859-1\")\n",
    "\n",
    "movie_titles.head()"
   ]
  },
  {
   "cell_type": "markdown",
   "metadata": {
    "colab_type": "text",
    "id": "QjrAo5nkzLEJ"
   },
   "source": [
    "<p style='font-size:15px'><b>Similar Movies for my favourite movie</b></p>"
   ]
  },
  {
   "cell_type": "markdown",
   "metadata": {},
   "source": [
    "![Kernel & front-end diagram](Images\\matrix.jpg)"
   ]
  },
  {
   "cell_type": "code",
   "execution_count": 169,
   "metadata": {
    "colab": {
     "autoexec": {
      "startup": false,
      "wait_interval": 0
     },
     "base_uri": "https://localhost:8080/",
     "height": 130
    },
    "colab_type": "code",
    "executionInfo": {
     "elapsed": 3758,
     "status": "ok",
     "timestamp": 1532032216504,
     "user": {
      "displayName": "vishnu gopireddy",
      "photoUrl": "https://lh3.googleusercontent.com/a/default-user=s128",
      "userId": "103025835711196897778"
     },
     "user_tz": -330
    },
    "id": "IY23ATu5zLEJ",
    "outputId": "89ec5ef9-196b-4b9d-f486-09792803874f"
   },
   "outputs": [
    {
     "name": "stdout",
     "output_type": "stream",
     "text": [
      "\n",
      "Movie -----> The Matrix\n",
      "\n",
      "It has 116766 Ratings from users.\n",
      "\n",
      "We have 17409 movies which are similar to this  and we will get only top most..\n"
     ]
    }
   ],
   "source": [
    "mv_id = movie_titles[movie_titles['title'] == 'The Matrix'].index[0]\n",
    "\n",
    "print(\"\\nMovie ----->\",movie_titles.loc[mv_id].values[1])\n",
    "\n",
    "print(\"\\nIt has {} Ratings from users.\".format(train_sparse_matrix[:,mv_id].getnnz()))\n",
    "\n",
    "print(\"\\nWe have {} movies which are similar to this  and we will get only top most..\".format(m_m_sim_sparse[:,mv_id].getnnz()))"
   ]
  },
  {
   "cell_type": "code",
   "execution_count": 0,
   "metadata": {
    "colab": {
     "autoexec": {
      "startup": false,
      "wait_interval": 0
     }
    },
    "colab_type": "code",
    "id": "mEjPzIGzzLEL"
   },
   "outputs": [],
   "source": [
    "similarities = m_m_sim_sparse[mv_id].toarray().ravel()\n",
    "\n",
    "similar_indices = similarities.argsort()[::-1][1:]\n",
    "\n",
    "similarities[similar_indices]\n",
    "\n",
    "sim_indices = similarities.argsort()[::-1][1:] # It will sort and reverse the array and ignore its similarity (ie.,1)\n",
    "                                               # and return its indices(movie_ids)"
   ]
  },
  {
   "cell_type": "code",
   "execution_count": 171,
   "metadata": {
    "colab": {
     "autoexec": {
      "startup": false,
      "wait_interval": 0
     },
     "base_uri": "https://localhost:8080/",
     "height": 386
    },
    "colab_type": "code",
    "executionInfo": {
     "elapsed": 4440,
     "status": "ok",
     "timestamp": 1532032226092,
     "user": {
      "displayName": "vishnu gopireddy",
      "photoUrl": "https://lh3.googleusercontent.com/a/default-user=s128",
      "userId": "103025835711196897778"
     },
     "user_tz": -330
    },
    "id": "N2Fy5YuuzLEM",
    "outputId": "2753611d-d4ed-424f-f45e-1a5e43ffcfaf"
   },
   "outputs": [
    {
     "data": {
      "image/png": "[encoded data removed]",
      "text/plain": [
       "<matplotlib.figure.Figure at 0x7f53737a7278>"
      ]
     },
     "metadata": {
      "tags": []
     },
     "output_type": "display_data"
    }
   ],
   "source": [
    "plt.plot(similarities[sim_indices], label='All the ratings',color='red')\n",
    "plt.plot(similarities[sim_indices[:100]], label='top 100 similar movies',color='green')\n",
    "plt.title(\"Similar Movies of {}(movie_id)\".format(mv_id), fontsize=20)\n",
    "plt.xlabel(\"Movies (Not Movie_Ids)\", fontsize=15)\n",
    "plt.ylabel(\"Cosine Similarity\",fontsize=15)\n",
    "plt.legend()\n",
    "plt.show()"
   ]
  },
  {
   "cell_type": "code",
   "execution_count": 89,
   "metadata": {
    "colab": {
     "autoexec": {
      "startup": false,
      "wait_interval": 0
     },
     "base_uri": "https://localhost:8080/",
     "height": 394
    },
    "colab_type": "code",
    "executionInfo": {
     "elapsed": 1719,
     "status": "ok",
     "timestamp": 1532028958174,
     "user": {
      "displayName": "vishnu gopireddy",
      "photoUrl": "https://lh3.googleusercontent.com/a/default-user=s128",
      "userId": "103025835711196897778"
     },
     "user_tz": -330
    },
    "id": "azanPDHb-G1B",
    "outputId": "3ef69628-eed4-4218-a31a-40d2ab06c8f7"
   },
   "outputs": [
    {
     "data": {
      "text/html": [
       "<div>\n",
       "<style scoped>\n",
       "    .dataframe tbody tr th:only-of-type {\n",
       "        vertical-align: middle;\n",
       "    }\n",
       "\n",
       "    .dataframe tbody tr th {\n",
       "        vertical-align: top;\n",
       "    }\n",
       "\n",
       "    .dataframe thead th {\n",
       "        text-align: right;\n",
       "    }\n",
       "</style>\n",
       "<table border=\"1\" class=\"dataframe\">\n",
       "  <thead>\n",
       "    <tr style=\"text-align: right;\">\n",
       "      <th></th>\n",
       "      <th>year_of_release</th>\n",
       "      <th>title</th>\n",
       "    </tr>\n",
       "    <tr>\n",
       "      <th>movie_id</th>\n",
       "      <th></th>\n",
       "      <th></th>\n",
       "    </tr>\n",
       "  </thead>\n",
       "  <tbody>\n",
       "    <tr>\n",
       "      <th>2452</th>\n",
       "      <td>2001.0</td>\n",
       "      <td>Lord of the Rings: The Fellowship of the Ring</td>\n",
       "    </tr>\n",
       "    <tr>\n",
       "      <th>3925</th>\n",
       "      <td>2003.0</td>\n",
       "      <td>The Matrix: Reloaded</td>\n",
       "    </tr>\n",
       "    <tr>\n",
       "      <th>13728</th>\n",
       "      <td>2000.0</td>\n",
       "      <td>Gladiator</td>\n",
       "    </tr>\n",
       "    <tr>\n",
       "      <th>11521</th>\n",
       "      <td>2002.0</td>\n",
       "      <td>Lord of the Rings: The Two Towers</td>\n",
       "    </tr>\n",
       "    <tr>\n",
       "      <th>12918</th>\n",
       "      <td>1997.0</td>\n",
       "      <td>Men in Black</td>\n",
       "    </tr>\n",
       "    <tr>\n",
       "      <th>14410</th>\n",
       "      <td>2002.0</td>\n",
       "      <td>Spider-Man</td>\n",
       "    </tr>\n",
       "    <tr>\n",
       "      <th>4306</th>\n",
       "      <td>1999.0</td>\n",
       "      <td>The Sixth Sense</td>\n",
       "    </tr>\n",
       "    <tr>\n",
       "      <th>12785</th>\n",
       "      <td>2000.0</td>\n",
       "      <td>X-Men</td>\n",
       "    </tr>\n",
       "    <tr>\n",
       "      <th>8387</th>\n",
       "      <td>2002.0</td>\n",
       "      <td>Minority Report</td>\n",
       "    </tr>\n",
       "    <tr>\n",
       "      <th>6196</th>\n",
       "      <td>1984.0</td>\n",
       "      <td>The Terminator</td>\n",
       "    </tr>\n",
       "  </tbody>\n",
       "</table>\n",
       "</div>"
      ],
      "text/plain": [
       "          year_of_release                                          title\n",
       "movie_id                                                                \n",
       "2452               2001.0  Lord of the Rings: The Fellowship of the Ring\n",
       "3925               2003.0                           The Matrix: Reloaded\n",
       "13728              2000.0                                      Gladiator\n",
       "11521              2002.0              Lord of the Rings: The Two Towers\n",
       "12918              1997.0                                   Men in Black\n",
       "14410              2002.0                                     Spider-Man\n",
       "4306               1999.0                                The Sixth Sense\n",
       "12785              2000.0                                          X-Men\n",
       "8387               2002.0                                Minority Report\n",
       "6196               1984.0                                 The Terminator"
      ]
     },
     "execution_count": 89,
     "metadata": {
      "tags": []
     },
     "output_type": "execute_result"
    }
   ],
   "source": [
    "movie_titles.loc[sim_indices[:10]]"
   ]
  },
  {
   "cell_type": "markdown",
   "metadata": {
    "colab_type": "text",
    "id": "KBvIbQqLJTRP"
   },
   "source": [
    "Lets look see distribution of ratings"
   ]
  },
  {
   "cell_type": "code",
   "execution_count": 133,
   "metadata": {
    "colab": {
     "autoexec": {
      "startup": false,
      "wait_interval": 0
     },
     "base_uri": "https://localhost:8080/",
     "height": 419
    },
    "colab_type": "code",
    "executionInfo": {
     "elapsed": 1452,
     "status": "ok",
     "timestamp": 1532030655654,
     "user": {
      "displayName": "vishnu gopireddy",
      "photoUrl": "https://lh3.googleusercontent.com/a/default-user=s128",
      "userId": "103025835711196897778"
     },
     "user_tz": -330
    },
    "id": "T9g_4DNv-wzj",
    "outputId": "dd74cb01-dba3-4cb1-a5bb-b281e76e1399",
    "scrolled": true
   },
   "outputs": [
    {
     "name": "stderr",
     "output_type": "stream",
     "text": [
      "/usr/local/lib/python3.6/dist-packages/seaborn/categorical.py:1428: FutureWarning: remove_na is deprecated and is a private function. Do not use.\n",
      "  stat_data = remove_na(group_data)\n"
     ]
    },
    {
     "data": {
      "image/png": "[encoded data removed]",
      "text/plain": [
       "<matplotlib.figure.Figure at 0x7f5373429470>"
      ]
     },
     "metadata": {
      "tags": []
     },
     "output_type": "display_data"
    }
   ],
   "source": [
    "\n",
    "ratings = pd.DataFrame(train_sparse_matrix[:,mv_id].todense())\n",
    "ratings = ratings[ratings[0] != 0]\n",
    "sns.countplot(data = ratings,x=0);"
   ]
  },
  {
   "cell_type": "markdown",
   "metadata": {
    "colab_type": "text",
    "id": "bJEUOSAmJhtp"
   },
   "source": [
    "<p style='font-size:15px'><b>Similar Movies for another  movie</b></p>"
   ]
  },
  {
   "cell_type": "markdown",
   "metadata": {},
   "source": [
    "![Kernel & front-end diagram](Images\\lord of rings.jpg)"
   ]
  },
  {
   "cell_type": "code",
   "execution_count": 160,
   "metadata": {
    "colab": {
     "autoexec": {
      "startup": false,
      "wait_interval": 0
     },
     "base_uri": "https://localhost:8080/",
     "height": 112
    },
    "colab_type": "code",
    "executionInfo": {
     "elapsed": 1270,
     "status": "ok",
     "timestamp": 1532031632673,
     "user": {
      "displayName": "vishnu gopireddy",
      "photoUrl": "https://lh3.googleusercontent.com/a/default-user=s128",
      "userId": "103025835711196897778"
     },
     "user_tz": -330
    },
    "id": "cAPTonBFJvtk",
    "outputId": "65ebb9da-1bce-4fcd-8b30-67119057d6a5"
   },
   "outputs": [
    {
     "data": {
      "text/html": [
       "<div>\n",
       "<style scoped>\n",
       "    .dataframe tbody tr th:only-of-type {\n",
       "        vertical-align: middle;\n",
       "    }\n",
       "\n",
       "    .dataframe tbody tr th {\n",
       "        vertical-align: top;\n",
       "    }\n",
       "\n",
       "    .dataframe thead th {\n",
       "        text-align: right;\n",
       "    }\n",
       "</style>\n",
       "<table border=\"1\" class=\"dataframe\">\n",
       "  <thead>\n",
       "    <tr style=\"text-align: right;\">\n",
       "      <th></th>\n",
       "      <th>year_of_release</th>\n",
       "      <th>title</th>\n",
       "    </tr>\n",
       "    <tr>\n",
       "      <th>movie_id</th>\n",
       "      <th></th>\n",
       "      <th></th>\n",
       "    </tr>\n",
       "  </thead>\n",
       "  <tbody>\n",
       "    <tr>\n",
       "      <th>2452</th>\n",
       "      <td>2001.0</td>\n",
       "      <td>Lord of the Rings: The Fellowship of the Ring</td>\n",
       "    </tr>\n",
       "  </tbody>\n",
       "</table>\n",
       "</div>"
      ],
      "text/plain": [
       "          year_of_release                                          title\n",
       "movie_id                                                                \n",
       "2452               2001.0  Lord of the Rings: The Fellowship of the Ring"
      ]
     },
     "execution_count": 160,
     "metadata": {
      "tags": []
     },
     "output_type": "execute_result"
    }
   ],
   "source": [
    "movie_titles[movie_titles['title'] == 'Lord of the Rings: The Fellowship of the Ring']"
   ]
  },
  {
   "cell_type": "code",
   "execution_count": 161,
   "metadata": {
    "colab": {
     "autoexec": {
      "startup": false,
      "wait_interval": 0
     },
     "base_uri": "https://localhost:8080/",
     "height": 130
    },
    "colab_type": "code",
    "executionInfo": {
     "elapsed": 2001,
     "status": "ok",
     "timestamp": 1532031638778,
     "user": {
      "displayName": "vishnu gopireddy",
      "photoUrl": "https://lh3.googleusercontent.com/a/default-user=s128",
      "userId": "103025835711196897778"
     },
     "user_tz": -330
    },
    "id": "5Lkmu92ZJhuE",
    "outputId": "de93c9ee-b7bf-4eec-993d-e9787694a8c2"
   },
   "outputs": [
    {
     "name": "stdout",
     "output_type": "stream",
     "text": [
      "\n",
      "Movie -----> Lord of the Rings: The Fellowship of the Ring\n",
      "\n",
      "It has 128529 Ratings from users.\n",
      "\n",
      "We have 17414 movies which are similar to this  and we will get only top most..\n"
     ]
    }
   ],
   "source": [
    "mv_id = 2452\n",
    "\n",
    "print(\"\\nMovie ----->\",movie_titles.loc[mv_id].values[1])\n",
    "\n",
    "print(\"\\nIt has {} Ratings from users.\".format(train_sparse_matrix[:,mv_id].getnnz()))\n",
    "\n",
    "print(\"\\nWe have {} movies which are similar to this  and we will get only top most..\".format(m_m_sim_sparse[:,mv_id].getnnz()))"
   ]
  },
  {
   "cell_type": "code",
   "execution_count": 0,
   "metadata": {
    "colab": {
     "autoexec": {
      "startup": false,
      "wait_interval": 0
     }
    },
    "colab_type": "code",
    "id": "v-7C5M4KJhuk"
   },
   "outputs": [],
   "source": [
    "similarities = m_m_sim_sparse[mv_id].toarray().ravel()\n",
    "\n",
    "similar_indices = similarities.argsort()[::-1][1:]\n",
    "\n",
    "similarities[similar_indices]\n",
    "\n",
    "sim_indices = similarities.argsort()[::-1][1:] # It will sort and reverse the array and ignore its similarity (ie.,1)\n",
    "                                               # and return its indices(movie_ids)"
   ]
  },
  {
   "cell_type": "code",
   "execution_count": 168,
   "metadata": {
    "colab": {
     "autoexec": {
      "startup": false,
      "wait_interval": 0
     },
     "base_uri": "https://localhost:8080/",
     "height": 386
    },
    "colab_type": "code",
    "executionInfo": {
     "elapsed": 3465,
     "status": "ok",
     "timestamp": 1532032195265,
     "user": {
      "displayName": "vishnu gopireddy",
      "photoUrl": "https://lh3.googleusercontent.com/a/default-user=s128",
      "userId": "103025835711196897778"
     },
     "user_tz": -330
    },
    "id": "fNzE__n3Jhus",
    "outputId": "41ba346d-0004-41ea-b40a-d9279411500a"
   },
   "outputs": [
    {
     "data": {
      "image/png": "[encoded data removed]",
      "text/plain": [
       "<matplotlib.figure.Figure at 0x7f53759a71d0>"
      ]
     },
     "metadata": {
      "tags": []
     },
     "output_type": "display_data"
    }
   ],
   "source": [
    "plt.plot(similarities[sim_indices], label='All the ratings',color='red')\n",
    "plt.plot(similarities[sim_indices[:100]], label='top 100 similar movies',color='green')\n",
    "plt.title(\"Similar Movies of {}(movie_id)\".format(mv_id), fontsize=20)\n",
    "plt.xlabel(\"Movies (Not Movie_Ids)\", fontsize=15)\n",
    "plt.ylabel(\"Cosine Similarity\",fontsize=15)\n",
    "plt.legend()\n",
    "plt.show()"
   ]
  },
  {
   "cell_type": "code",
   "execution_count": 164,
   "metadata": {
    "colab": {
     "autoexec": {
      "startup": false,
      "wait_interval": 0
     },
     "base_uri": "https://localhost:8080/",
     "height": 394
    },
    "colab_type": "code",
    "executionInfo": {
     "elapsed": 2282,
     "status": "ok",
     "timestamp": 1532031646798,
     "user": {
      "displayName": "vishnu gopireddy",
      "photoUrl": "https://lh3.googleusercontent.com/a/default-user=s128",
      "userId": "103025835711196897778"
     },
     "user_tz": -330
    },
    "id": "vlWLh855Jhu4",
    "outputId": "6492b845-eca4-490a-8882-04d26f53fb94"
   },
   "outputs": [
    {
     "data": {
      "text/html": [
       "<div>\n",
       "<style scoped>\n",
       "    .dataframe tbody tr th:only-of-type {\n",
       "        vertical-align: middle;\n",
       "    }\n",
       "\n",
       "    .dataframe tbody tr th {\n",
       "        vertical-align: top;\n",
       "    }\n",
       "\n",
       "    .dataframe thead th {\n",
       "        text-align: right;\n",
       "    }\n",
       "</style>\n",
       "<table border=\"1\" class=\"dataframe\">\n",
       "  <thead>\n",
       "    <tr style=\"text-align: right;\">\n",
       "      <th></th>\n",
       "      <th>year_of_release</th>\n",
       "      <th>title</th>\n",
       "    </tr>\n",
       "    <tr>\n",
       "      <th>movie_id</th>\n",
       "      <th></th>\n",
       "      <th></th>\n",
       "    </tr>\n",
       "  </thead>\n",
       "  <tbody>\n",
       "    <tr>\n",
       "      <th>11521</th>\n",
       "      <td>2002.0</td>\n",
       "      <td>Lord of the Rings: The Two Towers</td>\n",
       "    </tr>\n",
       "    <tr>\n",
       "      <th>14240</th>\n",
       "      <td>2003.0</td>\n",
       "      <td>Lord of the Rings: The Return of the King</td>\n",
       "    </tr>\n",
       "    <tr>\n",
       "      <th>1905</th>\n",
       "      <td>2003.0</td>\n",
       "      <td>Pirates of the Caribbean: The Curse of the Bla...</td>\n",
       "    </tr>\n",
       "    <tr>\n",
       "      <th>14691</th>\n",
       "      <td>1999.0</td>\n",
       "      <td>The Matrix</td>\n",
       "    </tr>\n",
       "    <tr>\n",
       "      <th>14410</th>\n",
       "      <td>2002.0</td>\n",
       "      <td>Spider-Man</td>\n",
       "    </tr>\n",
       "    <tr>\n",
       "      <th>15107</th>\n",
       "      <td>2001.0</td>\n",
       "      <td>Ocean's Eleven</td>\n",
       "    </tr>\n",
       "    <tr>\n",
       "      <th>8387</th>\n",
       "      <td>2002.0</td>\n",
       "      <td>Minority Report</td>\n",
       "    </tr>\n",
       "    <tr>\n",
       "      <th>13728</th>\n",
       "      <td>2000.0</td>\n",
       "      <td>Gladiator</td>\n",
       "    </tr>\n",
       "    <tr>\n",
       "      <th>6037</th>\n",
       "      <td>2002.0</td>\n",
       "      <td>The Bourne Identity</td>\n",
       "    </tr>\n",
       "    <tr>\n",
       "      <th>3962</th>\n",
       "      <td>2003.0</td>\n",
       "      <td>Finding Nemo (Widescreen)</td>\n",
       "    </tr>\n",
       "  </tbody>\n",
       "</table>\n",
       "</div>"
      ],
      "text/plain": [
       "          year_of_release                                              title\n",
       "movie_id                                                                    \n",
       "11521              2002.0                  Lord of the Rings: The Two Towers\n",
       "14240              2003.0          Lord of the Rings: The Return of the King\n",
       "1905               2003.0  Pirates of the Caribbean: The Curse of the Bla...\n",
       "14691              1999.0                                         The Matrix\n",
       "14410              2002.0                                         Spider-Man\n",
       "15107              2001.0                                     Ocean's Eleven\n",
       "8387               2002.0                                    Minority Report\n",
       "13728              2000.0                                          Gladiator\n",
       "6037               2002.0                                The Bourne Identity\n",
       "3962               2003.0                          Finding Nemo (Widescreen)"
      ]
     },
     "execution_count": 164,
     "metadata": {
      "tags": []
     },
     "output_type": "execute_result"
    }
   ],
   "source": [
    "movie_titles.loc[sim_indices[:10]]"
   ]
  },
  {
   "cell_type": "markdown",
   "metadata": {
    "colab_type": "text",
    "id": "_JIuHzEKJhvD"
   },
   "source": [
    "Lets look see distribution of ratings"
   ]
  },
  {
   "cell_type": "code",
   "execution_count": 165,
   "metadata": {
    "colab": {
     "autoexec": {
      "startup": false,
      "wait_interval": 0
     },
     "base_uri": "https://localhost:8080/",
     "height": 419
    },
    "colab_type": "code",
    "executionInfo": {
     "elapsed": 1668,
     "status": "ok",
     "timestamp": 1532031661642,
     "user": {
      "displayName": "vishnu gopireddy",
      "photoUrl": "https://lh3.googleusercontent.com/a/default-user=s128",
      "userId": "103025835711196897778"
     },
     "user_tz": -330
    },
    "id": "DqeiOp5mJhvE",
    "outputId": "5f39b3f0-b35d-4701-f1c5-e2e416228541"
   },
   "outputs": [
    {
     "name": "stderr",
     "output_type": "stream",
     "text": [
      "/usr/local/lib/python3.6/dist-packages/seaborn/categorical.py:1428: FutureWarning: remove_na is deprecated and is a private function. Do not use.\n",
      "  stat_data = remove_na(group_data)\n"
     ]
    },
    {
     "data": {
      "image/png": "[encoded data removed]",
      "text/plain": [
       "<matplotlib.figure.Figure at 0x7f5373360e48>"
      ]
     },
     "metadata": {
      "tags": []
     },
     "output_type": "display_data"
    }
   ],
   "source": [
    "\n",
    "ratings = pd.DataFrame(train_sparse_matrix[:,mv_id].todense())\n",
    "ratings = ratings[ratings[0] != 0]\n",
    "sns.countplot(data = ratings,x=0);"
   ]
  },
  {
   "cell_type": "markdown",
   "metadata": {
    "colab_type": "text",
    "id": "AOZZ4DawNLsa"
   },
   "source": [
    "<b> Observation:</b>\n",
    "<li> \"Lord of the Rings: The Fellowship of the Ring \"is the action movie and  more poluar movie, So similar movies we get are mostly action  movies.</li>\n",
    "<li>So our movie similarity works fine.</li>"
   ]
  }
 ],
 "metadata": {
  "accelerator": "GPU",
  "colab": {
   "collapsed_sections": [],
   "default_view": {},
   "name": "netflix EDA.ipynb",
   "provenance": [],
   "toc_visible": true,
   "version": "0.3.2",
   "views": {}
  },
  "kernelspec": {
   "display_name": "Python 3",
   "language": "python",
   "name": "python3"
  },
  "language_info": {
   "codemirror_mode": {
    "name": "ipython",
    "version": 3
   },
   "file_extension": ".py",
   "mimetype": "text/x-python",
   "name": "python",
   "nbconvert_exporter": "python",
   "pygments_lexer": "ipython3",
   "version": "3.6.6"
  },
  "toc": {
   "base_numbering": 1,
   "nav_menu": {},
   "number_sections": false,
   "sideBar": true,
   "skip_h1_title": false,
   "title_cell": "Table of Contents",
   "title_sidebar": "Contents",
   "toc_cell": true,
   "toc_position": {},
   "toc_section_display": true,
   "toc_window_display": true
  }
 },
 "nbformat": 4,
 "nbformat_minor": 1
}
